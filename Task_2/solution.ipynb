{
 "cells": [
  {
   "cell_type": "code",
   "execution_count": 1,
   "source": [
    "from sklearn.base import OutlierMixin\n",
    "from sklearn.metrics.pairwise import KERNEL_PARAMS\n",
    "from xgboost import XGBRegressor\n",
    "import xgboost as xgb\n",
    "import pandas as pd\n",
    "import numpy as np\n",
    "import sklearn as sklearn\n",
    "from sklearn.ensemble import IsolationForest\n",
    "from sklearn.linear_model import LassoCV\n",
    "from sklearn.model_selection import train_test_split\n",
    "from sklearn.metrics import r2_score\n",
    "from sklearn.impute import KNNImputer\n",
    "from sklearn.svm import SVR\n",
    "from sklearn.preprocessing import StandardScaler\n",
    "from sklearn.feature_selection import SequentialFeatureSelector\n",
    "from sklearn import linear_model\n",
    "import matplotlib.pyplot as plt\n",
    "from sklearn.feature_selection import RFECV\n",
    "from sklearn.feature_selection import SelectFromModel\n",
    "from sklearn.kernel_ridge import KernelRidge\n",
    "from sklearn.experimental import enable_iterative_imputer\n",
    "from sklearn.impute import IterativeImputer\n",
    "from sklearn.neighbors import LocalOutlierFactor\n",
    "from sklearn.impute import SimpleImputer\n",
    "from sklearn.feature_selection import VarianceThreshold\n",
    "from sklearn.ensemble import RandomForestRegressor\n",
    "from sklearn.ensemble import RandomForestClassifier\n",
    "from sklearn.model_selection import GridSearchCV\n",
    "from sklearn.gaussian_process.kernels import *\n",
    "from sklearn.neighbors import LocalOutlierFactor\n",
    "from sklearn.gaussian_process import GaussianProcessRegressor\n",
    "from sklearn.gaussian_process import GaussianProcessClassifier\n",
    "import biosppy.signals.ecg as ecg\n",
    "from sklearn.metrics import f1_score\n",
    "from sklearn.utils.class_weight import compute_class_weight"
   ],
   "outputs": [],
   "metadata": {}
  },
  {
   "cell_type": "markdown",
   "source": [
    "# LOAD THE DATASET"
   ],
   "metadata": {}
  },
  {
   "cell_type": "code",
   "execution_count": 2,
   "source": [
    "x_data = pd.read_csv('X_train.csv')\n",
    "y_data = pd.read_csv('y_train.csv')\n",
    "x_test = pd.read_csv('X_test.csv')\n",
    "\n",
    "print('Pandas read shape = ' + str(x_data.shape))\n",
    "\n",
    "print('Test Set',np.argwhere(np.any(np.isnan(x_test))))\n",
    "\n",
    "x_data = x_data.to_numpy()[:, 1:]  #convert the data frame to numpy array\n",
    "y_data = y_data.to_numpy()[:, 1]  #convert the data frame to numpy array\\\n",
    "x_test = x_test.to_numpy()[:, 1:]\n"
   ],
   "outputs": [
    {
     "output_type": "stream",
     "name": "stdout",
     "text": [
      "Pandas read shape = (5117, 17843)\n",
      "Test Set []\n"
     ]
    }
   ],
   "metadata": {}
  },
  {
   "cell_type": "markdown",
   "source": [
    "# SPLIT THE DATASET"
   ],
   "metadata": {}
  },
  {
   "cell_type": "code",
   "execution_count": 3,
   "source": [
    "x_train, x_val, y_train, y_val = train_test_split(x_data, y_data, test_size=0.25, random_state=36)"
   ],
   "outputs": [],
   "metadata": {}
  },
  {
   "cell_type": "markdown",
   "source": [
    "# EXTRACT HEARTBEAT TEMPLATES AND RPEAK LOCATIONS"
   ],
   "metadata": {}
  },
  {
   "cell_type": "code",
   "execution_count": 22,
   "source": [
    "rpeaks_train = []\n",
    "heartbeats_train = []\n",
    "for i in range(x_train.shape[0]):\n",
    "    temp = x_train[i,:]\n",
    "    rpeaks_train_ind = ecg.hamilton_segmenter(temp[np.logical_not(np.isnan(temp))], 300)['rpeaks']      ####ENGZEE_SEGMENTER RESULTED IN EMPTY ARRAYS\n",
    "    heartbeats_train.append(ecg.extract_heartbeats(temp[np.logical_not(np.isnan(temp))], sampling_rate = 300, rpeaks=rpeaks_train_ind)['templates'])\n",
    "    rpeaks_train.append(ecg.extract_heartbeats(temp[np.logical_not(np.isnan(temp))], sampling_rate = 300, rpeaks=rpeaks_train_ind)['rpeaks'])\n",
    "    #print(i)\n",
    "\n",
    "rpeaks_train = np.array(rpeaks_train)\n",
    "heartbeats_train = np.array(heartbeats_train)"
   ],
   "outputs": [
    {
     "output_type": "stream",
     "name": "stderr",
     "text": [
      "/var/folders/mj/kcb9f_n104z8fw8t77lzvcv80000gn/T/ipykernel_949/4067803072.py:10: VisibleDeprecationWarning: Creating an ndarray from ragged nested sequences (which is a list-or-tuple of lists-or-tuples-or ndarrays with different lengths or shapes) is deprecated. If you meant to do this, you must specify 'dtype=object' when creating the ndarray.\n",
      "  rpeaks_train = np.array(rpeaks_train)\n",
      "/var/folders/mj/kcb9f_n104z8fw8t77lzvcv80000gn/T/ipykernel_949/4067803072.py:11: VisibleDeprecationWarning: Creating an ndarray from ragged nested sequences (which is a list-or-tuple of lists-or-tuples-or ndarrays with different lengths or shapes) is deprecated. If you meant to do this, you must specify 'dtype=object' when creating the ndarray.\n",
      "  heartbeats_train = np.array(heartbeats_train)\n"
     ]
    }
   ],
   "metadata": {}
  },
  {
   "cell_type": "code",
   "execution_count": 20,
   "source": [
    "counter = 0\n",
    "for i in range(rpeaks_train.shape[0]):\n",
    "    if rpeaks_train[i].size == 0:\n",
    "        counter += 1\n",
    "        print(rpeaks_train[i])\n",
    "print(counter)\n"
   ],
   "outputs": [
    {
     "output_type": "stream",
     "name": "stdout",
     "text": [
      "[]\n",
      "[]\n",
      "[]\n",
      "[]\n",
      "[]\n",
      "[]\n",
      "[]\n",
      "[]\n",
      "[]\n",
      "9\n"
     ]
    }
   ],
   "metadata": {}
  },
  {
   "cell_type": "code",
   "execution_count": 11,
   "source": [
    "rpeaks_val = []\n",
    "heartbeats_val = []\n",
    "for i in range(x_val.shape[0]):\n",
    "    temp = x_val[i,:]\n",
    "    rpeaks_val_ind = ecg.hamilton_segmenter(temp[np.logical_not(np.isnan(temp))], 300)['rpeaks']     ####ENGZEE_SEGMENTER RESULTED IN EMPTY ARRAYS\n",
    "    heartbeats_val.append(ecg.extract_heartbeats(temp[np.logical_not(np.isnan(temp))], sampling_rate = 300, rpeaks=rpeaks_val_ind)['templates'])\n",
    "    rpeaks_val.append(ecg.extract_heartbeats(temp[np.logical_not(np.isnan(temp))], sampling_rate = 300, rpeaks=rpeaks_val_ind)['rpeaks'])\n",
    "    #print(i)\n",
    "\n",
    "rpeaks_val = np.array(rpeaks_val)\n",
    "heartbeats_val = np.array(heartbeats_val)\n"
   ],
   "outputs": [
    {
     "output_type": "stream",
     "name": "stderr",
     "text": [
      "/var/folders/mj/kcb9f_n104z8fw8t77lzvcv80000gn/T/ipykernel_949/1297802285.py:10: VisibleDeprecationWarning: Creating an ndarray from ragged nested sequences (which is a list-or-tuple of lists-or-tuples-or ndarrays with different lengths or shapes) is deprecated. If you meant to do this, you must specify 'dtype=object' when creating the ndarray.\n",
      "  rpeaks_val = np.array(rpeaks_val)\n",
      "/var/folders/mj/kcb9f_n104z8fw8t77lzvcv80000gn/T/ipykernel_949/1297802285.py:11: VisibleDeprecationWarning: Creating an ndarray from ragged nested sequences (which is a list-or-tuple of lists-or-tuples-or ndarrays with different lengths or shapes) is deprecated. If you meant to do this, you must specify 'dtype=object' when creating the ndarray.\n",
      "  heartbeats_val = np.array(heartbeats_val)\n"
     ]
    }
   ],
   "metadata": {}
  },
  {
   "cell_type": "code",
   "execution_count": 12,
   "source": [
    "rpeaks_test = []\n",
    "heartbeats_test = []\n",
    "for i in range(x_test.shape[0]):\n",
    "    temp = x_test[i,:]\n",
    "    rpeaks_test_ind = ecg.hamilton_segmenter(temp[np.logical_not(np.isnan(temp))], 300)['rpeaks']     ####ENGZEE_SEGMENTER RESULTED IN EMPTY ARRAYS\n",
    "    heartbeats_test.append(ecg.extract_heartbeats(temp[np.logical_not(np.isnan(temp))], sampling_rate = 300, rpeaks=rpeaks_test_ind)['templates'])\n",
    "    rpeaks_test.append(ecg.extract_heartbeats(temp[np.logical_not(np.isnan(temp))], sampling_rate = 300, rpeaks=rpeaks_test_ind)['rpeaks'])\n",
    "    #print(i)\n",
    "\n",
    "rpeaks_test = np.array(rpeaks_test)\n",
    "heartbeats_test = np.array(heartbeats_test)"
   ],
   "outputs": [
    {
     "output_type": "stream",
     "name": "stderr",
     "text": [
      "/var/folders/mj/kcb9f_n104z8fw8t77lzvcv80000gn/T/ipykernel_949/3373129269.py:10: VisibleDeprecationWarning: Creating an ndarray from ragged nested sequences (which is a list-or-tuple of lists-or-tuples-or ndarrays with different lengths or shapes) is deprecated. If you meant to do this, you must specify 'dtype=object' when creating the ndarray.\n",
      "  rpeaks_test = np.array(rpeaks_test)\n",
      "/var/folders/mj/kcb9f_n104z8fw8t77lzvcv80000gn/T/ipykernel_949/3373129269.py:11: VisibleDeprecationWarning: Creating an ndarray from ragged nested sequences (which is a list-or-tuple of lists-or-tuples-or ndarrays with different lengths or shapes) is deprecated. If you meant to do this, you must specify 'dtype=object' when creating the ndarray.\n",
      "  heartbeats_test = np.array(heartbeats_test)\n"
     ]
    }
   ],
   "metadata": {}
  },
  {
   "cell_type": "code",
   "execution_count": 13,
   "source": [
    "mu = np.mean(heartbeats_val[48], axis=0)\n",
    "plt.plot(range(mu.shape[0]), mu, label='Average HeartBeat')\n",
    "\n",
    "print(heartbeats_val[5].shape)\n",
    "print(rpeaks_val[5].shape)\n",
    "print(heartbeats_val[0])\n",
    "print(rpeaks_val[0])\n",
    "print(heartbeats_val.shape)\n",
    "print(rpeaks_val.shape)\n",
    "print(np.diff(rpeaks_train[48], axis=0))\n",
    "print(rpeaks_train[48])\n",
    "temp = x_train[48,:]\n",
    "rpeaks_train_ind_45 = ecg.christov_segmenter(temp[np.logical_not(np.isnan(temp))], 300)['rpeaks']\n",
    "print(rpeaks_train_ind_45)\n",
    "##EACH PEAK IN THE TIME SERIES OF AN INDIVIDUAL IS TAKEN AS SEPERATE TEMPLATES"
   ],
   "outputs": [
    {
     "output_type": "stream",
     "name": "stdout",
     "text": [
      "(329, 180)\n",
      "(329,)\n",
      "[[ -63.  -65.  -67. ...  -10.  -12.  -13.]\n",
      " [   2.    2.    1. ...   41.   44.   46.]\n",
      " [  -5.   -5.   -6. ...  115.  112.  107.]\n",
      " ...\n",
      " [ -19.  -19.  -18. ...   -8.   -7.   -6.]\n",
      " [-123. -120. -118. ...    0.    1.    2.]\n",
      " [   4.    3.    3. ...   93.   95.   96.]]\n",
      "[  70  204  221  234  252  337  495  496  526  612  619  679  772  782\n",
      "  801  882  884  890 1043 1051 1072 1156 1164 1310 1325 1345 1354 1430\n",
      " 1590 1601 1624 1706 1868 1899 1979 1996 2136 2144 2169 2172 2254 2411\n",
      " 2424 2444 2530 2533 2690 2703 2722 2805 2965 2975 2996 3076 3248 3274\n",
      " 3358 3523 3534 3554 3637 3675 3699 3795 3805 3825 3908 4023 4069 4070\n",
      " 4101 4183 4188 4190 4352 4362 4382 4473 4565 4630 4636 4659 4744 4899\n",
      " 4931 4934 5012 5022 5175 5184 5205 5288 5450 5463 5482 5568 5728 5759\n",
      " 5840 5996 6027 6110 6117 6143 6269 6277 6300 6382 6487 6551 6559 6579\n",
      " 6638 6660 6677 6693 6818 6831 6852 6935 7093 7105 7127 7209 7219 7373\n",
      " 7382 7405 7491 7492 7494 7570 7655 7663 7684 7768 7931 7942 7962 8047\n",
      " 8215 8222 8245 8329 8338 8489 8501 8524 8528 8605 8761]\n",
      "(1280,)\n",
      "(1280,)\n",
      "[ 32  12  16  52  38   3  73  36  75  30  16  47   7  15 103  20  15  73\n",
      "  38  26  51  26  76  12  42  21  67  73  34  26  29  52  74  90  11  36\n",
      "  75  37 103  74  14   4  88  38  72  65  17  17  37  19  53  91  41  22\n",
      "  53   9  76  37  73  92  32  73  37  51  36  45  29  84   8  18  13  20\n",
      "  53  49  37  13  26  74 113  13  21  25  50 106  40  73 109  39  71  86\n",
      "  13  38  73  19  17  85  21  16  22  51  80  28  41  16  57  12  97   4\n",
      "  42  72  11  67  39  36  22  51  84  31  13  28  71  68  10  32  14  36\n",
      "  16  57  23  80  37  72  93  28  43  73 123   8  31  76  65  54  37  74\n",
      " 116  39  75 114  38  20  56  34  76  43  74  11   5 101  38  74  37  80\n",
      "  39  72 100  41  16  12  45 129  38  76]\n",
      "[  64   96  108  124  176  214  217  290  326  401  431  447  494  501\n",
      "  516  619  639  654  727  765  791  842  868  944  956  998 1019 1086\n",
      " 1159 1193 1219 1248 1300 1374 1464 1475 1511 1586 1623 1726 1800 1814\n",
      " 1818 1906 1944 2016 2081 2098 2115 2152 2171 2224 2315 2356 2378 2431\n",
      " 2440 2516 2553 2626 2718 2750 2823 2860 2911 2947 2992 3021 3105 3113\n",
      " 3131 3144 3164 3217 3266 3303 3316 3342 3416 3529 3542 3563 3588 3638\n",
      " 3744 3784 3857 3966 4005 4076 4162 4175 4213 4286 4305 4322 4407 4428\n",
      " 4444 4466 4517 4597 4625 4666 4682 4739 4751 4848 4852 4894 4966 4977\n",
      " 5044 5083 5119 5141 5192 5276 5307 5320 5348 5419 5487 5497 5529 5543\n",
      " 5579 5595 5652 5675 5755 5792 5864 5957 5985 6028 6101 6224 6232 6263\n",
      " 6339 6404 6458 6495 6569 6685 6724 6799 6913 6951 6971 7027 7061 7137\n",
      " 7180 7254 7265 7270 7371 7409 7483 7520 7600 7639 7711 7811 7852 7868\n",
      " 7880 7925 8054 8092 8168]\n",
      "[214]\n"
     ]
    },
    {
     "output_type": "display_data",
     "data": {
      "image/png": "[encoded data removed]",
      "text/plain": [
       "<Figure size 432x288 with 1 Axes>"
      ]
     },
     "metadata": {
      "needs_background": "light"
     }
    }
   ],
   "metadata": {}
  },
  {
   "cell_type": "markdown",
   "source": [
    "# PREPROCESS THE DATA - PREPARE THE FEAURES"
   ],
   "metadata": {}
  },
  {
   "cell_type": "code",
   "execution_count": 15,
   "source": [
    "#EXTRACT THE FEATURES IN THE SLIDES FROM THE TEMPLATES\n",
    "#EXTRACT THE MEAN, VARIANCE, MIN, MAX ETC STATISTICS OF THE TAMPLATES\n",
    "#OR MAAYBE USE MEAN/MEDIAN TEMPLATE FOR EACH INDIVIDUAL INCIRPORAE WITH LSTM???\n",
    "#EXTRACT THE MEAN, VARIANCE, MIN, MAX IN THE DURATIONS OF HERTBEATS, IE DIFFERENCES OF RPEAKS\n",
    "#MAYBE USE THE WHOLE RPKEAS_DIFF VECTOR AS A FEATURE VECTORS TO INDICATE RR INTERVALS AS A TIME SERIES OF DIFFERENCE OF TWO TIME SERIES PROBLEM:BUT NOT OF THE SAME SIZE!!!\n",
    "\n",
    "rpeaks_duration_mean = np.zeros(rpeaks_train.shape[0])\n",
    "heart_rate_variability = np.zeros(rpeaks_train.shape[0])\n",
    "rpeaks_duration_median = np.zeros(rpeaks_train.shape[0])\n",
    "rpeaks_duration_min = np.zeros(rpeaks_train.shape[0])\n",
    "rpeaks_duration_max = np.zeros(rpeaks_train.shape[0])\n",
    "\n",
    "for i in range(rpeaks_train.shape[0]):\n",
    "    rpeak_diff_i = np.diff(rpeaks_train[i], axis=0)\n",
    "    if len(rpeak_diff_i) == 0:\n",
    "        print('yes')\n",
    "        rpeak_diff_i = rpeaks_train[i]\n",
    "    #print(i)\n",
    "    rpeaks_duration_mean[i] = np.mean(rpeak_diff_i, axis=0)\n",
    "    heart_rate_variability[i] = np.var(rpeak_diff_i, axis=0)\n",
    "    rpeaks_duration_median[i] = np.median(rpeak_diff_i, axis=0)\n",
    "    rpeaks_duration_min[i] = np.min(rpeak_diff_i, axis=0)\n",
    "    rpeaks_duration_max[i] = np.max(rpeak_diff_i, axis=0)\n",
    "\n",
    "r_amplitude_mean = np.zeros(heartbeats_train.shape[0])\n",
    "r_amplitude_median = np.zeros(heartbeats_train.shape[0])\n",
    "r_amplitude_min = np.zeros(heartbeats_train.shape[0])\n",
    "r_amplitude_max = np.zeros(heartbeats_train.shape[0])\n",
    "r_amplitude_var = np.zeros(heartbeats_train.shape[0])\n",
    "q_amplitude_mean = np.zeros(heartbeats_train.shape[0])\n",
    "q_amplitude_median = np.zeros(heartbeats_train.shape[0])\n",
    "q_amplitude_min = np.zeros(heartbeats_train.shape[0])\n",
    "q_amplitude_max = np.zeros(heartbeats_train.shape[0])\n",
    "q_amplitude_var = np.zeros(heartbeats_train.shape[0])\n",
    "\n",
    "for i in range(heartbeats_train.shape[0]):\n",
    "    r_amplitudes_i = np.max(heartbeats_train[i], axis=1)            ####FORGOT TO REPLACE R_AMPLITUDE_I AND Q_AMPLITUDE_I!!!!!!!\n",
    "    q_amplitudes_i = np.min(heartbeats_train[i], axis=1)\n",
    "    #print(r_amplitudes_i.shape)\n",
    "    r_amplitude_mean[i] = np.mean(r_amplitudes_i)\n",
    "    r_amplitude_median[i] = np.median(r_amplitudes_i)\n",
    "    r_amplitude_min[i] = np.min(r_amplitudes_i)\n",
    "    r_amplitude_max[i] = np.max(r_amplitudes_i)\n",
    "    r_amplitude_var[i] = np.var(r_amplitudes_i)\n",
    "    q_amplitude_mean[i] = np.mean(q_amplitudes_i)\n",
    "    q_amplitude_median[i] = np.median(q_amplitudes_i)\n",
    "    q_amplitude_min[i] = np.min(q_amplitudes_i)\n",
    "    q_amplitude_max[i] = np.max(q_amplitudes_i)\n",
    "    q_amplitude_var[i] = np.var(q_amplitudes_i)\n",
    "\n",
    "x_train_features = np.column_stack((rpeaks_duration_mean, rpeaks_duration_median, heart_rate_variability, rpeaks_duration_min, rpeaks_duration_max, \\\n",
    "    r_amplitude_mean, r_amplitude_median, r_amplitude_var, r_amplitude_min, r_amplitude_max, q_amplitude_mean, q_amplitude_median, \\\n",
    "        q_amplitude_var, q_amplitude_min, q_amplitude_max))\n",
    "\n",
    "print(x_train_features)\n",
    "print(x_train_features.shape)"
   ],
   "outputs": [
    {
     "output_type": "stream",
     "name": "stdout",
     "text": [
      "yes\n"
     ]
    },
    {
     "output_type": "stream",
     "name": "stderr",
     "text": [
      "/opt/anaconda3/envs/aml/lib/python3.8/site-packages/numpy/core/fromnumeric.py:3440: RuntimeWarning: Mean of empty slice.\n",
      "  return _methods._mean(a, axis=axis, dtype=dtype,\n",
      "/opt/anaconda3/envs/aml/lib/python3.8/site-packages/numpy/core/_methods.py:189: RuntimeWarning: invalid value encountered in double_scalars\n",
      "  ret = ret.dtype.type(ret / rcount)\n",
      "/opt/anaconda3/envs/aml/lib/python3.8/site-packages/numpy/core/fromnumeric.py:3723: RuntimeWarning: Degrees of freedom <= 0 for slice\n",
      "  return _methods._var(a, axis=axis, dtype=dtype, out=out, ddof=ddof,\n",
      "/opt/anaconda3/envs/aml/lib/python3.8/site-packages/numpy/core/_methods.py:222: RuntimeWarning: invalid value encountered in true_divide\n",
      "  arrmean = um.true_divide(arrmean, div, out=arrmean, casting='unsafe',\n",
      "/opt/anaconda3/envs/aml/lib/python3.8/site-packages/numpy/core/_methods.py:254: RuntimeWarning: invalid value encountered in double_scalars\n",
      "  ret = ret.dtype.type(ret / rcount)\n"
     ]
    },
    {
     "output_type": "error",
     "ename": "ValueError",
     "evalue": "zero-size array to reduction operation minimum which has no identity",
     "traceback": [
      "\u001b[0;31m---------------------------------------------------------------------------\u001b[0m",
      "\u001b[0;31mValueError\u001b[0m                                Traceback (most recent call last)",
      "\u001b[0;32m/var/folders/mj/kcb9f_n104z8fw8t77lzvcv80000gn/T/ipykernel_949/3757901662.py\u001b[0m in \u001b[0;36m<module>\u001b[0;34m\u001b[0m\n\u001b[1;32m     20\u001b[0m     \u001b[0mheart_rate_variability\u001b[0m\u001b[0;34m[\u001b[0m\u001b[0mi\u001b[0m\u001b[0;34m]\u001b[0m \u001b[0;34m=\u001b[0m \u001b[0mnp\u001b[0m\u001b[0;34m.\u001b[0m\u001b[0mvar\u001b[0m\u001b[0;34m(\u001b[0m\u001b[0mrpeak_diff_i\u001b[0m\u001b[0;34m,\u001b[0m \u001b[0maxis\u001b[0m\u001b[0;34m=\u001b[0m\u001b[0;36m0\u001b[0m\u001b[0;34m)\u001b[0m\u001b[0;34m\u001b[0m\u001b[0;34m\u001b[0m\u001b[0m\n\u001b[1;32m     21\u001b[0m     \u001b[0mrpeaks_duration_median\u001b[0m\u001b[0;34m[\u001b[0m\u001b[0mi\u001b[0m\u001b[0;34m]\u001b[0m \u001b[0;34m=\u001b[0m \u001b[0mnp\u001b[0m\u001b[0;34m.\u001b[0m\u001b[0mmedian\u001b[0m\u001b[0;34m(\u001b[0m\u001b[0mrpeak_diff_i\u001b[0m\u001b[0;34m,\u001b[0m \u001b[0maxis\u001b[0m\u001b[0;34m=\u001b[0m\u001b[0;36m0\u001b[0m\u001b[0;34m)\u001b[0m\u001b[0;34m\u001b[0m\u001b[0;34m\u001b[0m\u001b[0m\n\u001b[0;32m---> 22\u001b[0;31m     \u001b[0mrpeaks_duration_min\u001b[0m\u001b[0;34m[\u001b[0m\u001b[0mi\u001b[0m\u001b[0;34m]\u001b[0m \u001b[0;34m=\u001b[0m \u001b[0mnp\u001b[0m\u001b[0;34m.\u001b[0m\u001b[0mmin\u001b[0m\u001b[0;34m(\u001b[0m\u001b[0mrpeak_diff_i\u001b[0m\u001b[0;34m,\u001b[0m \u001b[0maxis\u001b[0m\u001b[0;34m=\u001b[0m\u001b[0;36m0\u001b[0m\u001b[0;34m)\u001b[0m\u001b[0;34m\u001b[0m\u001b[0;34m\u001b[0m\u001b[0m\n\u001b[0m\u001b[1;32m     23\u001b[0m     \u001b[0mrpeaks_duration_max\u001b[0m\u001b[0;34m[\u001b[0m\u001b[0mi\u001b[0m\u001b[0;34m]\u001b[0m \u001b[0;34m=\u001b[0m \u001b[0mnp\u001b[0m\u001b[0;34m.\u001b[0m\u001b[0mmax\u001b[0m\u001b[0;34m(\u001b[0m\u001b[0mrpeak_diff_i\u001b[0m\u001b[0;34m,\u001b[0m \u001b[0maxis\u001b[0m\u001b[0;34m=\u001b[0m\u001b[0;36m0\u001b[0m\u001b[0;34m)\u001b[0m\u001b[0;34m\u001b[0m\u001b[0;34m\u001b[0m\u001b[0m\n\u001b[1;32m     24\u001b[0m \u001b[0;34m\u001b[0m\u001b[0m\n",
      "\u001b[0;32m<__array_function__ internals>\u001b[0m in \u001b[0;36mamin\u001b[0;34m(*args, **kwargs)\u001b[0m\n",
      "\u001b[0;32m/opt/anaconda3/envs/aml/lib/python3.8/site-packages/numpy/core/fromnumeric.py\u001b[0m in \u001b[0;36mamin\u001b[0;34m(a, axis, out, keepdims, initial, where)\u001b[0m\n\u001b[1;32m   2877\u001b[0m     \u001b[0;36m6\u001b[0m\u001b[0;34m\u001b[0m\u001b[0;34m\u001b[0m\u001b[0m\n\u001b[1;32m   2878\u001b[0m     \"\"\"\n\u001b[0;32m-> 2879\u001b[0;31m     return _wrapreduction(a, np.minimum, 'min', axis, None, out,\n\u001b[0m\u001b[1;32m   2880\u001b[0m                           keepdims=keepdims, initial=initial, where=where)\n\u001b[1;32m   2881\u001b[0m \u001b[0;34m\u001b[0m\u001b[0m\n",
      "\u001b[0;32m/opt/anaconda3/envs/aml/lib/python3.8/site-packages/numpy/core/fromnumeric.py\u001b[0m in \u001b[0;36m_wrapreduction\u001b[0;34m(obj, ufunc, method, axis, dtype, out, **kwargs)\u001b[0m\n\u001b[1;32m     84\u001b[0m                 \u001b[0;32mreturn\u001b[0m \u001b[0mreduction\u001b[0m\u001b[0;34m(\u001b[0m\u001b[0maxis\u001b[0m\u001b[0;34m=\u001b[0m\u001b[0maxis\u001b[0m\u001b[0;34m,\u001b[0m \u001b[0mout\u001b[0m\u001b[0;34m=\u001b[0m\u001b[0mout\u001b[0m\u001b[0;34m,\u001b[0m \u001b[0;34m**\u001b[0m\u001b[0mpasskwargs\u001b[0m\u001b[0;34m)\u001b[0m\u001b[0;34m\u001b[0m\u001b[0;34m\u001b[0m\u001b[0m\n\u001b[1;32m     85\u001b[0m \u001b[0;34m\u001b[0m\u001b[0m\n\u001b[0;32m---> 86\u001b[0;31m     \u001b[0;32mreturn\u001b[0m \u001b[0mufunc\u001b[0m\u001b[0;34m.\u001b[0m\u001b[0mreduce\u001b[0m\u001b[0;34m(\u001b[0m\u001b[0mobj\u001b[0m\u001b[0;34m,\u001b[0m \u001b[0maxis\u001b[0m\u001b[0;34m,\u001b[0m \u001b[0mdtype\u001b[0m\u001b[0;34m,\u001b[0m \u001b[0mout\u001b[0m\u001b[0;34m,\u001b[0m \u001b[0;34m**\u001b[0m\u001b[0mpasskwargs\u001b[0m\u001b[0;34m)\u001b[0m\u001b[0;34m\u001b[0m\u001b[0;34m\u001b[0m\u001b[0m\n\u001b[0m\u001b[1;32m     87\u001b[0m \u001b[0;34m\u001b[0m\u001b[0m\n\u001b[1;32m     88\u001b[0m \u001b[0;34m\u001b[0m\u001b[0m\n",
      "\u001b[0;31mValueError\u001b[0m: zero-size array to reduction operation minimum which has no identity"
     ]
    }
   ],
   "metadata": {}
  },
  {
   "cell_type": "code",
   "execution_count": 9,
   "source": [
    "rpeaks_duration_mean = np.zeros(rpeaks_val.shape[0])\n",
    "heart_rate_variability = np.zeros(rpeaks_val.shape[0])\n",
    "rpeaks_duration_median = np.zeros(rpeaks_val.shape[0])\n",
    "rpeaks_duration_min = np.zeros(rpeaks_val.shape[0])\n",
    "rpeaks_duration_max = np.zeros(rpeaks_val.shape[0])\n",
    "\n",
    "for i in range(rpeaks_val.shape[0]):\n",
    "    rpeak_diff_i = np.diff(rpeaks_val[i], axis=0)\n",
    "    if len(rpeak_diff_i) == 0:\n",
    "        print('yes')\n",
    "        rpeak_diff_i = rpeaks_val[i]\n",
    "    #print(i)\n",
    "    rpeaks_duration_mean[i] = np.mean(rpeak_diff_i, axis=0)\n",
    "    heart_rate_variability[i] = np.var(rpeak_diff_i, axis=0)\n",
    "    rpeaks_duration_median[i] = np.median(rpeak_diff_i, axis=0)\n",
    "    rpeaks_duration_min[i] = np.min(rpeak_diff_i, axis=0)\n",
    "    rpeaks_duration_max[i] = np.max(rpeak_diff_i, axis=0)\n",
    "\n",
    "r_amplitude_mean = np.zeros(heartbeats_val.shape[0])\n",
    "r_amplitude_median = np.zeros(heartbeats_val.shape[0])\n",
    "r_amplitude_min = np.zeros(heartbeats_val.shape[0])\n",
    "r_amplitude_max = np.zeros(heartbeats_val.shape[0])\n",
    "r_amplitude_var = np.zeros(heartbeats_val.shape[0])\n",
    "q_amplitude_mean = np.zeros(heartbeats_val.shape[0])\n",
    "q_amplitude_median = np.zeros(heartbeats_val.shape[0])\n",
    "q_amplitude_min = np.zeros(heartbeats_val.shape[0])\n",
    "q_amplitude_max = np.zeros(heartbeats_val.shape[0])\n",
    "q_amplitude_var = np.zeros(heartbeats_val.shape[0])\n",
    "\n",
    "for i in range(heartbeats_val.shape[0]):\n",
    "    r_amplitudes_i = np.max(heartbeats_val[i], axis=1)\n",
    "    q_amplitudes_i = np.min(heartbeats_val[i], axis=1)\n",
    "    #print(r_amplitudes_i.shape)\n",
    "    r_amplitude_mean[i] = np.mean(r_amplitudes_i)\n",
    "    r_amplitude_median[i] = np.median(r_amplitudes_i)\n",
    "    r_amplitude_min[i] = np.min(r_amplitudes_i)\n",
    "    r_amplitude_max[i] = np.max(r_amplitudes_i)\n",
    "    r_amplitude_var[i] = np.var(r_amplitudes_i)\n",
    "    q_amplitude_mean[i] = np.mean(q_amplitudes_i)\n",
    "    q_amplitude_median[i] = np.median(q_amplitudes_i)\n",
    "    q_amplitude_min[i] = np.min(q_amplitudes_i)\n",
    "    q_amplitude_max[i] = np.max(q_amplitudes_i)\n",
    "    q_amplitude_var[i] = np.var(q_amplitudes_i)\n",
    "\n",
    "x_val_features = np.column_stack((rpeaks_duration_mean, rpeaks_duration_median, heart_rate_variability, rpeaks_duration_min, rpeaks_duration_max, \\\n",
    "    r_amplitude_mean, r_amplitude_median, r_amplitude_var, r_amplitude_min, r_amplitude_max, q_amplitude_mean, q_amplitude_median, \\\n",
    "        q_amplitude_var, q_amplitude_min, q_amplitude_max))\n",
    "\n",
    "print(x_val_features)\n",
    "print(x_val_features.shape)"
   ],
   "outputs": [
    {
     "output_type": "stream",
     "name": "stdout",
     "text": [
      "[[ 2.75733333e+02  2.75500000e+02  1.17288889e+01 ...  3.36439271e+04\n",
      "  -1.45000000e+02  1.15200000e+03]\n",
      " [ 2.92285714e+02  2.93000000e+02  7.77551020e+00 ...  2.27664849e+04\n",
      "  -3.79000000e+02  8.69000000e+02]\n",
      " [ 2.49322581e+02  2.61000000e+02  1.26047659e+03 ...  4.10816189e+05\n",
      "  -3.63500000e+03  4.38400000e+03]\n",
      " ...\n",
      " [ 3.08680000e+02  3.00000000e+02  3.39133760e+03 ...  3.56446453e+04\n",
      "  -1.09900000e+03  7.25000000e+02]\n",
      " [ 2.39806452e+02  2.41000000e+02  4.54285120e+02 ...  2.17374280e+04\n",
      "  -2.93000000e+02  6.77000000e+02]\n",
      " [ 2.46516129e+02  2.55000000e+02  1.54573361e+03 ...  1.23421591e+04\n",
      "  -4.75000000e+02  1.48600000e+03]]\n",
      "(1280, 15)\n"
     ]
    }
   ],
   "metadata": {}
  },
  {
   "cell_type": "code",
   "execution_count": 10,
   "source": [
    "rpeaks_duration_mean = np.zeros(rpeaks_test.shape[0])\n",
    "heart_rate_variability = np.zeros(rpeaks_test.shape[0])\n",
    "rpeaks_duration_median = np.zeros(rpeaks_test.shape[0])\n",
    "rpeaks_duration_min = np.zeros(rpeaks_test.shape[0])\n",
    "rpeaks_duration_max = np.zeros(rpeaks_test.shape[0])\n",
    "\n",
    "for i in range(rpeaks_test.shape[0]):\n",
    "    rpeak_diff_i = np.diff(rpeaks_test[i], axis=0)\n",
    "    if len(rpeak_diff_i) == 0:\n",
    "        print('yes')\n",
    "        rpeak_diff_i = rpeaks_test[i]\n",
    "    #print(i)\n",
    "    rpeaks_duration_mean[i] = np.mean(rpeak_diff_i, axis=0)\n",
    "    heart_rate_variability[i] = np.var(rpeak_diff_i, axis=0)\n",
    "    rpeaks_duration_median[i] = np.median(rpeak_diff_i, axis=0)\n",
    "    rpeaks_duration_min[i] = np.min(rpeak_diff_i, axis=0)\n",
    "    rpeaks_duration_max[i] = np.max(rpeak_diff_i, axis=0)\n",
    "\n",
    "r_amplitude_mean = np.zeros(heartbeats_test.shape[0])\n",
    "r_amplitude_median = np.zeros(heartbeats_test.shape[0])\n",
    "r_amplitude_min = np.zeros(heartbeats_test.shape[0])\n",
    "r_amplitude_max = np.zeros(heartbeats_test.shape[0])\n",
    "r_amplitude_var = np.zeros(heartbeats_test.shape[0])\n",
    "q_amplitude_mean = np.zeros(heartbeats_test.shape[0])\n",
    "q_amplitude_median = np.zeros(heartbeats_test.shape[0])\n",
    "q_amplitude_min = np.zeros(heartbeats_test.shape[0])\n",
    "q_amplitude_max = np.zeros(heartbeats_test.shape[0])\n",
    "q_amplitude_var = np.zeros(heartbeats_test.shape[0])\n",
    "\n",
    "for i in range(heartbeats_test.shape[0]):\n",
    "    r_amplitudes_i = np.max(heartbeats_test[i], axis=1)\n",
    "    q_amplitudes_i = np.min(heartbeats_test[i], axis=1)\n",
    "    #print(r_amplitudes_i.shape)\n",
    "    r_amplitude_mean[i] = np.mean(r_amplitudes_i)\n",
    "    r_amplitude_median[i] = np.median(r_amplitudes_i)\n",
    "    r_amplitude_min[i] = np.min(r_amplitudes_i)\n",
    "    r_amplitude_max[i] = np.max(r_amplitudes_i)\n",
    "    r_amplitude_var[i] = np.var(r_amplitudes_i)\n",
    "    q_amplitude_mean[i] = np.mean(q_amplitudes_i)\n",
    "    q_amplitude_median[i] = np.median(q_amplitudes_i)\n",
    "    q_amplitude_min[i] = np.min(q_amplitudes_i)\n",
    "    q_amplitude_max[i] = np.max(q_amplitudes_i)\n",
    "    q_amplitude_var[i] = np.var(q_amplitudes_i)\n",
    "\n",
    "x_test_features = np.column_stack((rpeaks_duration_mean, rpeaks_duration_median, heart_rate_variability, rpeaks_duration_min, rpeaks_duration_max, \\\n",
    "    r_amplitude_mean, r_amplitude_median, r_amplitude_var, r_amplitude_min, r_amplitude_max, q_amplitude_mean, q_amplitude_median, \\\n",
    "        q_amplitude_var, q_amplitude_min, q_amplitude_max))\n",
    "\n",
    "print(x_test_features)\n",
    "print(x_test_features.shape)"
   ],
   "outputs": [
    {
     "output_type": "stream",
     "name": "stdout",
     "text": [
      "[[ 2.57258065e+02  2.52000000e+02  3.03352758e+02 ...  1.06846780e+05\n",
      "  -6.93000000e+02  1.71300000e+03]\n",
      " [ 3.22058824e+02  3.21000000e+02  4.24055363e+02 ...  4.24821838e+04\n",
      "  -1.70000000e+02  1.09300000e+03]\n",
      " [ 2.43030303e+02  2.71000000e+02  1.22803930e+04 ...  8.66286711e+04\n",
      "  -1.13300000e+03  1.35600000e+03]\n",
      " ...\n",
      " [ 2.27376812e+02  2.27000000e+02  2.91684100e+02 ...  2.03783255e+04\n",
      "  -5.90000000e+02  6.77000000e+02]\n",
      " [ 2.19305556e+02  2.20000000e+02  5.43441358e+00 ...  1.05126852e+04\n",
      "  -1.61000000e+02  6.53000000e+02]\n",
      " [ 1.77304348e+02  1.68500000e+02  1.38838563e+03 ...  6.07700977e+04\n",
      "  -1.21700000e+03  1.70900000e+03]]\n",
      "(3411, 15)\n"
     ]
    }
   ],
   "metadata": {}
  },
  {
   "cell_type": "markdown",
   "source": [
    "# FINDING UNBALANCED CLASS WEIGHTS"
   ],
   "metadata": {}
  },
  {
   "cell_type": "code",
   "execution_count": 11,
   "source": [
    "weights_per_class = compute_class_weight(class_weight = 'balanced', classes = [0,1,2,3], y = y_train)\n",
    "print(weights_per_class)"
   ],
   "outputs": [
    {
     "output_type": "stream",
     "name": "stdout",
     "text": [
      "[0.42407162 2.88063063 0.85800537 7.7358871 ]\n"
     ]
    }
   ],
   "metadata": {}
  },
  {
   "cell_type": "code",
   "execution_count": 12,
   "source": [
    "weights_per_sample = np.zeros(len(y_train))\n",
    "weights_per_sample[y_train == 0] = weights_per_class[0]\n",
    "weights_per_sample[y_train == 1] = weights_per_class[1]\n",
    "weights_per_sample[y_train == 2] = weights_per_class[2]\n",
    "weights_per_sample[y_train == 3] = weights_per_class[3]\n",
    "print(weights_per_sample)\n",
    "print(y_train)"
   ],
   "outputs": [
    {
     "output_type": "stream",
     "name": "stdout",
     "text": [
      "[0.42407162 0.85800537 0.42407162 ... 2.88063063 0.42407162 0.85800537]\n",
      "[0 2 0 ... 1 0 2]\n"
     ]
    }
   ],
   "metadata": {}
  },
  {
   "cell_type": "markdown",
   "source": [
    "# DEFINE F1 SCORE FUNCTION"
   ],
   "metadata": {}
  },
  {
   "cell_type": "code",
   "execution_count": 13,
   "source": [
    "def f1_eval(estimator,y_pred, dtrain):\n",
    "    y_true = dtrain.get_label()\n",
    "    err = 1-f1_score(y_true, np.round(y_pred), average='micro')\n",
    "    return 'f1_err', err"
   ],
   "outputs": [],
   "metadata": {}
  },
  {
   "cell_type": "markdown",
   "source": [
    "# CROSS VALIDATION FOR XGBOOST"
   ],
   "metadata": {}
  },
  {
   "cell_type": "code",
   "execution_count": 16,
   "source": [
    "model = xgb.XGBClassifier(random_state=42, use_label_encoder = False, objective='multi:softmax', eval_metric = 'mlogloss')\n",
    "#model = xgb.XGBRFClassifier(random_state=42, use_label_encoder = False, objective='multi:softmax', eval_metric = 'mlogloss')\n",
    "n_estimator_list = [80, 300, 500]\n",
    "subsample_list = [0.3,0.5,0.7]\n",
    "colsample_bynode_list = [0.3,0.5,0.7]\n",
    "learning_rate_list = [0.04, 0.1, 0.2]\n",
    "reg_alpha_list = [0.1,1,5]\n",
    "reg_lambda_list = [0.1,1,5]\n",
    "max_depth_list = [5,8]\n",
    "gamma_list = [0.1, 0.2]\n",
    "\n",
    "param_dict = {'n_estimators': n_estimator_list, 'subsample': subsample_list, 'colsample_bynode': colsample_bynode_list,\n",
    "              'learning_rate': learning_rate_list, 'reg_alpha':reg_alpha_list, 'max_depth':max_depth_list, 'gamma':gamma_list, 'reg_lambda':reg_lambda_list}\n",
    "\n",
    "fit_params = {'sample_weight': weights_per_sample}\n",
    "\n",
    "grid_search = GridSearchCV(model, param_dict, refit=True, cv=4, scoring='f1_micro', verbose=3, error_score = 'raise')\n",
    "\n",
    "# fit the model using the training data\n",
    "grid_search.fit(x_train_features, y_train, **fit_params)\n",
    "print('best parameters:',grid_search.best_params_)\n",
    "\n",
    "#make predictions with the trained model\n",
    "y_val_pred = grid_search.predict(x_val_features)\n",
    "y_train_pred = grid_search.predict(x_train_features)\n",
    "print('Val_score',f1_score(y_val, y_val_pred, average='micro'))\n",
    "print('Train_score',f1_score(y_train, y_train_pred, average='micro'))\n",
    "\n",
    "print('best score:',grid_search.best_score_) \n",
    "print(grid_search.cv_results_['split0_test_score'][grid_search.best_index_])\n",
    "print(grid_search.cv_results_['split1_test_score'][grid_search.best_index_])\n",
    "print(grid_search.cv_results_['split2_test_score'][grid_search.best_index_])\n",
    "print(grid_search.cv_results_['split3_test_score'][grid_search.best_index_])"
   ],
   "outputs": [
    {
     "output_type": "stream",
     "name": "stdout",
     "text": [
      "Fitting 4 folds for each of 2916 candidates, totalling 11664 fits\n",
      "[CV 1/4] END colsample_bynode=0.3, gamma=0.1, learning_rate=0.04, max_depth=5, n_estimators=80, reg_alpha=0.1, reg_lambda=0.1, subsample=0.3;, score=0.704 total time=   0.6s\n",
      "[CV 2/4] END colsample_bynode=0.3, gamma=0.1, learning_rate=0.04, max_depth=5, n_estimators=80, reg_alpha=0.1, reg_lambda=0.1, subsample=0.3;, score=0.699 total time=   0.6s\n",
      "[CV 3/4] END colsample_bynode=0.3, gamma=0.1, learning_rate=0.04, max_depth=5, n_estimators=80, reg_alpha=0.1, reg_lambda=0.1, subsample=0.3;, score=0.681 total time=   0.5s\n",
      "[CV 4/4] END colsample_bynode=0.3, gamma=0.1, learning_rate=0.04, max_depth=5, n_estimators=80, reg_alpha=0.1, reg_lambda=0.1, subsample=0.3;, score=0.689 total time=   0.5s\n",
      "[CV 1/4] END colsample_bynode=0.3, gamma=0.1, learning_rate=0.04, max_depth=5, n_estimators=80, reg_alpha=0.1, reg_lambda=0.1, subsample=0.5;, score=0.698 total time=   0.5s\n",
      "[CV 2/4] END colsample_bynode=0.3, gamma=0.1, learning_rate=0.04, max_depth=5, n_estimators=80, reg_alpha=0.1, reg_lambda=0.1, subsample=0.5;, score=0.709 total time=   0.6s\n",
      "[CV 3/4] END colsample_bynode=0.3, gamma=0.1, learning_rate=0.04, max_depth=5, n_estimators=80, reg_alpha=0.1, reg_lambda=0.1, subsample=0.5;, score=0.682 total time=   0.5s\n",
      "[CV 4/4] END colsample_bynode=0.3, gamma=0.1, learning_rate=0.04, max_depth=5, n_estimators=80, reg_alpha=0.1, reg_lambda=0.1, subsample=0.5;, score=0.678 total time=   0.5s\n",
      "[CV 1/4] END colsample_bynode=0.3, gamma=0.1, learning_rate=0.04, max_depth=5, n_estimators=80, reg_alpha=0.1, reg_lambda=0.1, subsample=0.7;, score=0.695 total time=   0.9s\n",
      "[CV 2/4] END colsample_bynode=0.3, gamma=0.1, learning_rate=0.04, max_depth=5, n_estimators=80, reg_alpha=0.1, reg_lambda=0.1, subsample=0.7;, score=0.706 total time=   0.6s\n",
      "[CV 3/4] END colsample_bynode=0.3, gamma=0.1, learning_rate=0.04, max_depth=5, n_estimators=80, reg_alpha=0.1, reg_lambda=0.1, subsample=0.7;, score=0.684 total time=   0.7s\n",
      "[CV 4/4] END colsample_bynode=0.3, gamma=0.1, learning_rate=0.04, max_depth=5, n_estimators=80, reg_alpha=0.1, reg_lambda=0.1, subsample=0.7;, score=0.663 total time=   0.6s\n",
      "[CV 1/4] END colsample_bynode=0.3, gamma=0.1, learning_rate=0.04, max_depth=5, n_estimators=80, reg_alpha=0.1, reg_lambda=1, subsample=0.3;, score=0.699 total time=   0.5s\n",
      "[CV 2/4] END colsample_bynode=0.3, gamma=0.1, learning_rate=0.04, max_depth=5, n_estimators=80, reg_alpha=0.1, reg_lambda=1, subsample=0.3;, score=0.707 total time=   0.8s\n",
      "[CV 3/4] END colsample_bynode=0.3, gamma=0.1, learning_rate=0.04, max_depth=5, n_estimators=80, reg_alpha=0.1, reg_lambda=1, subsample=0.3;, score=0.681 total time=   0.7s\n",
      "[CV 4/4] END colsample_bynode=0.3, gamma=0.1, learning_rate=0.04, max_depth=5, n_estimators=80, reg_alpha=0.1, reg_lambda=1, subsample=0.3;, score=0.680 total time=   0.6s\n",
      "[CV 1/4] END colsample_bynode=0.3, gamma=0.1, learning_rate=0.04, max_depth=5, n_estimators=80, reg_alpha=0.1, reg_lambda=1, subsample=0.5;, score=0.694 total time=   0.6s\n",
      "[CV 2/4] END colsample_bynode=0.3, gamma=0.1, learning_rate=0.04, max_depth=5, n_estimators=80, reg_alpha=0.1, reg_lambda=1, subsample=0.5;, score=0.703 total time=   0.7s\n",
      "[CV 3/4] END colsample_bynode=0.3, gamma=0.1, learning_rate=0.04, max_depth=5, n_estimators=80, reg_alpha=0.1, reg_lambda=1, subsample=0.5;, score=0.675 total time=   0.7s\n",
      "[CV 4/4] END colsample_bynode=0.3, gamma=0.1, learning_rate=0.04, max_depth=5, n_estimators=80, reg_alpha=0.1, reg_lambda=1, subsample=0.5;, score=0.676 total time=   0.6s\n",
      "[CV 1/4] END colsample_bynode=0.3, gamma=0.1, learning_rate=0.04, max_depth=5, n_estimators=80, reg_alpha=0.1, reg_lambda=1, subsample=0.7;, score=0.698 total time=   1.0s\n",
      "[CV 2/4] END colsample_bynode=0.3, gamma=0.1, learning_rate=0.04, max_depth=5, n_estimators=80, reg_alpha=0.1, reg_lambda=1, subsample=0.7;, score=0.715 total time=   0.8s\n",
      "[CV 3/4] END colsample_bynode=0.3, gamma=0.1, learning_rate=0.04, max_depth=5, n_estimators=80, reg_alpha=0.1, reg_lambda=1, subsample=0.7;, score=0.683 total time=   0.8s\n",
      "[CV 4/4] END colsample_bynode=0.3, gamma=0.1, learning_rate=0.04, max_depth=5, n_estimators=80, reg_alpha=0.1, reg_lambda=1, subsample=0.7;, score=0.660 total time=   1.1s\n",
      "[CV 1/4] END colsample_bynode=0.3, gamma=0.1, learning_rate=0.04, max_depth=5, n_estimators=80, reg_alpha=0.1, reg_lambda=5, subsample=0.3;, score=0.683 total time=   0.7s\n",
      "[CV 2/4] END colsample_bynode=0.3, gamma=0.1, learning_rate=0.04, max_depth=5, n_estimators=80, reg_alpha=0.1, reg_lambda=5, subsample=0.3;, score=0.699 total time=   0.6s\n",
      "[CV 3/4] END colsample_bynode=0.3, gamma=0.1, learning_rate=0.04, max_depth=5, n_estimators=80, reg_alpha=0.1, reg_lambda=5, subsample=0.3;, score=0.672 total time=   1.0s\n",
      "[CV 4/4] END colsample_bynode=0.3, gamma=0.1, learning_rate=0.04, max_depth=5, n_estimators=80, reg_alpha=0.1, reg_lambda=5, subsample=0.3;, score=0.670 total time=   0.7s\n",
      "[CV 1/4] END colsample_bynode=0.3, gamma=0.1, learning_rate=0.04, max_depth=5, n_estimators=80, reg_alpha=0.1, reg_lambda=5, subsample=0.5;, score=0.682 total time=   0.6s\n",
      "[CV 2/4] END colsample_bynode=0.3, gamma=0.1, learning_rate=0.04, max_depth=5, n_estimators=80, reg_alpha=0.1, reg_lambda=5, subsample=0.5;, score=0.698 total time=   0.6s\n",
      "[CV 3/4] END colsample_bynode=0.3, gamma=0.1, learning_rate=0.04, max_depth=5, n_estimators=80, reg_alpha=0.1, reg_lambda=5, subsample=0.5;, score=0.661 total time=   0.6s\n",
      "[CV 4/4] END colsample_bynode=0.3, gamma=0.1, learning_rate=0.04, max_depth=5, n_estimators=80, reg_alpha=0.1, reg_lambda=5, subsample=0.5;, score=0.663 total time=   0.8s\n",
      "[CV 1/4] END colsample_bynode=0.3, gamma=0.1, learning_rate=0.04, max_depth=5, n_estimators=80, reg_alpha=0.1, reg_lambda=5, subsample=0.7;, score=0.694 total time=   0.7s\n",
      "[CV 2/4] END colsample_bynode=0.3, gamma=0.1, learning_rate=0.04, max_depth=5, n_estimators=80, reg_alpha=0.1, reg_lambda=5, subsample=0.7;, score=0.702 total time=   0.9s\n",
      "[CV 3/4] END colsample_bynode=0.3, gamma=0.1, learning_rate=0.04, max_depth=5, n_estimators=80, reg_alpha=0.1, reg_lambda=5, subsample=0.7;, score=0.673 total time=   0.8s\n",
      "[CV 4/4] END colsample_bynode=0.3, gamma=0.1, learning_rate=0.04, max_depth=5, n_estimators=80, reg_alpha=0.1, reg_lambda=5, subsample=0.7;, score=0.659 total time=   1.0s\n",
      "[CV 1/4] END colsample_bynode=0.3, gamma=0.1, learning_rate=0.04, max_depth=5, n_estimators=80, reg_alpha=1, reg_lambda=0.1, subsample=0.3;, score=0.688 total time=   0.7s\n",
      "[CV 2/4] END colsample_bynode=0.3, gamma=0.1, learning_rate=0.04, max_depth=5, n_estimators=80, reg_alpha=1, reg_lambda=0.1, subsample=0.3;, score=0.705 total time=   0.5s\n",
      "[CV 3/4] END colsample_bynode=0.3, gamma=0.1, learning_rate=0.04, max_depth=5, n_estimators=80, reg_alpha=1, reg_lambda=0.1, subsample=0.3;, score=0.686 total time=   0.7s\n",
      "[CV 4/4] END colsample_bynode=0.3, gamma=0.1, learning_rate=0.04, max_depth=5, n_estimators=80, reg_alpha=1, reg_lambda=0.1, subsample=0.3;, score=0.670 total time=   0.6s\n",
      "[CV 1/4] END colsample_bynode=0.3, gamma=0.1, learning_rate=0.04, max_depth=5, n_estimators=80, reg_alpha=1, reg_lambda=0.1, subsample=0.5;, score=0.691 total time=   0.7s\n",
      "[CV 2/4] END colsample_bynode=0.3, gamma=0.1, learning_rate=0.04, max_depth=5, n_estimators=80, reg_alpha=1, reg_lambda=0.1, subsample=0.5;, score=0.699 total time=   0.8s\n",
      "[CV 3/4] END colsample_bynode=0.3, gamma=0.1, learning_rate=0.04, max_depth=5, n_estimators=80, reg_alpha=1, reg_lambda=0.1, subsample=0.5;, score=0.679 total time=   1.2s\n",
      "[CV 4/4] END colsample_bynode=0.3, gamma=0.1, learning_rate=0.04, max_depth=5, n_estimators=80, reg_alpha=1, reg_lambda=0.1, subsample=0.5;, score=0.669 total time=   1.0s\n"
     ]
    },
    {
     "output_type": "error",
     "ename": "KeyboardInterrupt",
     "evalue": "",
     "traceback": [
      "\u001b[0;31m---------------------------------------------------------------------------\u001b[0m",
      "\u001b[0;31mKeyboardInterrupt\u001b[0m                         Traceback (most recent call last)",
      "\u001b[0;32m/var/folders/mj/kcb9f_n104z8fw8t77lzvcv80000gn/T/ipykernel_26703/483374455.py\u001b[0m in \u001b[0;36m<module>\u001b[0;34m\u001b[0m\n\u001b[1;32m     18\u001b[0m \u001b[0;34m\u001b[0m\u001b[0m\n\u001b[1;32m     19\u001b[0m \u001b[0;31m# fit the model using the training data\u001b[0m\u001b[0;34m\u001b[0m\u001b[0;34m\u001b[0m\u001b[0;34m\u001b[0m\u001b[0m\n\u001b[0;32m---> 20\u001b[0;31m \u001b[0mgrid_search\u001b[0m\u001b[0;34m.\u001b[0m\u001b[0mfit\u001b[0m\u001b[0;34m(\u001b[0m\u001b[0mx_train_features\u001b[0m\u001b[0;34m,\u001b[0m \u001b[0my_train\u001b[0m\u001b[0;34m,\u001b[0m \u001b[0;34m**\u001b[0m\u001b[0mfit_params\u001b[0m\u001b[0;34m)\u001b[0m\u001b[0;34m\u001b[0m\u001b[0;34m\u001b[0m\u001b[0m\n\u001b[0m\u001b[1;32m     21\u001b[0m \u001b[0mprint\u001b[0m\u001b[0;34m(\u001b[0m\u001b[0;34m'best parameters:'\u001b[0m\u001b[0;34m,\u001b[0m\u001b[0mgrid_search\u001b[0m\u001b[0;34m.\u001b[0m\u001b[0mbest_params_\u001b[0m\u001b[0;34m)\u001b[0m\u001b[0;34m\u001b[0m\u001b[0;34m\u001b[0m\u001b[0m\n\u001b[1;32m     22\u001b[0m \u001b[0;34m\u001b[0m\u001b[0m\n",
      "\u001b[0;32m/opt/anaconda3/lib/python3.8/site-packages/sklearn/model_selection/_search.py\u001b[0m in \u001b[0;36mfit\u001b[0;34m(self, X, y, groups, **fit_params)\u001b[0m\n\u001b[1;32m    889\u001b[0m                 \u001b[0;32mreturn\u001b[0m \u001b[0mresults\u001b[0m\u001b[0;34m\u001b[0m\u001b[0;34m\u001b[0m\u001b[0m\n\u001b[1;32m    890\u001b[0m \u001b[0;34m\u001b[0m\u001b[0m\n\u001b[0;32m--> 891\u001b[0;31m             \u001b[0mself\u001b[0m\u001b[0;34m.\u001b[0m\u001b[0m_run_search\u001b[0m\u001b[0;34m(\u001b[0m\u001b[0mevaluate_candidates\u001b[0m\u001b[0;34m)\u001b[0m\u001b[0;34m\u001b[0m\u001b[0;34m\u001b[0m\u001b[0m\n\u001b[0m\u001b[1;32m    892\u001b[0m \u001b[0;34m\u001b[0m\u001b[0m\n\u001b[1;32m    893\u001b[0m             \u001b[0;31m# multimetric is determined here because in the case of a callable\u001b[0m\u001b[0;34m\u001b[0m\u001b[0;34m\u001b[0m\u001b[0;34m\u001b[0m\u001b[0m\n",
      "\u001b[0;32m/opt/anaconda3/lib/python3.8/site-packages/sklearn/model_selection/_search.py\u001b[0m in \u001b[0;36m_run_search\u001b[0;34m(self, evaluate_candidates)\u001b[0m\n\u001b[1;32m   1390\u001b[0m     \u001b[0;32mdef\u001b[0m \u001b[0m_run_search\u001b[0m\u001b[0;34m(\u001b[0m\u001b[0mself\u001b[0m\u001b[0;34m,\u001b[0m \u001b[0mevaluate_candidates\u001b[0m\u001b[0;34m)\u001b[0m\u001b[0;34m:\u001b[0m\u001b[0;34m\u001b[0m\u001b[0;34m\u001b[0m\u001b[0m\n\u001b[1;32m   1391\u001b[0m         \u001b[0;34m\"\"\"Search all candidates in param_grid\"\"\"\u001b[0m\u001b[0;34m\u001b[0m\u001b[0;34m\u001b[0m\u001b[0m\n\u001b[0;32m-> 1392\u001b[0;31m         \u001b[0mevaluate_candidates\u001b[0m\u001b[0;34m(\u001b[0m\u001b[0mParameterGrid\u001b[0m\u001b[0;34m(\u001b[0m\u001b[0mself\u001b[0m\u001b[0;34m.\u001b[0m\u001b[0mparam_grid\u001b[0m\u001b[0;34m)\u001b[0m\u001b[0;34m)\u001b[0m\u001b[0;34m\u001b[0m\u001b[0;34m\u001b[0m\u001b[0m\n\u001b[0m\u001b[1;32m   1393\u001b[0m \u001b[0;34m\u001b[0m\u001b[0m\n\u001b[1;32m   1394\u001b[0m \u001b[0;34m\u001b[0m\u001b[0m\n",
      "\u001b[0;32m/opt/anaconda3/lib/python3.8/site-packages/sklearn/model_selection/_search.py\u001b[0m in \u001b[0;36mevaluate_candidates\u001b[0;34m(candidate_params, cv, more_results)\u001b[0m\n\u001b[1;32m    836\u001b[0m                     )\n\u001b[1;32m    837\u001b[0m \u001b[0;34m\u001b[0m\u001b[0m\n\u001b[0;32m--> 838\u001b[0;31m                 out = parallel(\n\u001b[0m\u001b[1;32m    839\u001b[0m                     delayed(_fit_and_score)(\n\u001b[1;32m    840\u001b[0m                         \u001b[0mclone\u001b[0m\u001b[0;34m(\u001b[0m\u001b[0mbase_estimator\u001b[0m\u001b[0;34m)\u001b[0m\u001b[0;34m,\u001b[0m\u001b[0;34m\u001b[0m\u001b[0;34m\u001b[0m\u001b[0m\n",
      "\u001b[0;32m/opt/anaconda3/lib/python3.8/site-packages/joblib/parallel.py\u001b[0m in \u001b[0;36m__call__\u001b[0;34m(self, iterable)\u001b[0m\n\u001b[1;32m   1044\u001b[0m                 \u001b[0mself\u001b[0m\u001b[0;34m.\u001b[0m\u001b[0m_iterating\u001b[0m \u001b[0;34m=\u001b[0m \u001b[0mself\u001b[0m\u001b[0;34m.\u001b[0m\u001b[0m_original_iterator\u001b[0m \u001b[0;32mis\u001b[0m \u001b[0;32mnot\u001b[0m \u001b[0;32mNone\u001b[0m\u001b[0;34m\u001b[0m\u001b[0;34m\u001b[0m\u001b[0m\n\u001b[1;32m   1045\u001b[0m \u001b[0;34m\u001b[0m\u001b[0m\n\u001b[0;32m-> 1046\u001b[0;31m             \u001b[0;32mwhile\u001b[0m \u001b[0mself\u001b[0m\u001b[0;34m.\u001b[0m\u001b[0mdispatch_one_batch\u001b[0m\u001b[0;34m(\u001b[0m\u001b[0miterator\u001b[0m\u001b[0;34m)\u001b[0m\u001b[0;34m:\u001b[0m\u001b[0;34m\u001b[0m\u001b[0;34m\u001b[0m\u001b[0m\n\u001b[0m\u001b[1;32m   1047\u001b[0m                 \u001b[0;32mpass\u001b[0m\u001b[0;34m\u001b[0m\u001b[0;34m\u001b[0m\u001b[0m\n\u001b[1;32m   1048\u001b[0m \u001b[0;34m\u001b[0m\u001b[0m\n",
      "\u001b[0;32m/opt/anaconda3/lib/python3.8/site-packages/joblib/parallel.py\u001b[0m in \u001b[0;36mdispatch_one_batch\u001b[0;34m(self, iterator)\u001b[0m\n\u001b[1;32m    859\u001b[0m                 \u001b[0;32mreturn\u001b[0m \u001b[0;32mFalse\u001b[0m\u001b[0;34m\u001b[0m\u001b[0;34m\u001b[0m\u001b[0m\n\u001b[1;32m    860\u001b[0m             \u001b[0;32melse\u001b[0m\u001b[0;34m:\u001b[0m\u001b[0;34m\u001b[0m\u001b[0;34m\u001b[0m\u001b[0m\n\u001b[0;32m--> 861\u001b[0;31m                 \u001b[0mself\u001b[0m\u001b[0;34m.\u001b[0m\u001b[0m_dispatch\u001b[0m\u001b[0;34m(\u001b[0m\u001b[0mtasks\u001b[0m\u001b[0;34m)\u001b[0m\u001b[0;34m\u001b[0m\u001b[0;34m\u001b[0m\u001b[0m\n\u001b[0m\u001b[1;32m    862\u001b[0m                 \u001b[0;32mreturn\u001b[0m \u001b[0;32mTrue\u001b[0m\u001b[0;34m\u001b[0m\u001b[0;34m\u001b[0m\u001b[0m\n\u001b[1;32m    863\u001b[0m \u001b[0;34m\u001b[0m\u001b[0m\n",
      "\u001b[0;32m/opt/anaconda3/lib/python3.8/site-packages/joblib/parallel.py\u001b[0m in \u001b[0;36m_dispatch\u001b[0;34m(self, batch)\u001b[0m\n\u001b[1;32m    777\u001b[0m         \u001b[0;32mwith\u001b[0m \u001b[0mself\u001b[0m\u001b[0;34m.\u001b[0m\u001b[0m_lock\u001b[0m\u001b[0;34m:\u001b[0m\u001b[0;34m\u001b[0m\u001b[0;34m\u001b[0m\u001b[0m\n\u001b[1;32m    778\u001b[0m             \u001b[0mjob_idx\u001b[0m \u001b[0;34m=\u001b[0m \u001b[0mlen\u001b[0m\u001b[0;34m(\u001b[0m\u001b[0mself\u001b[0m\u001b[0;34m.\u001b[0m\u001b[0m_jobs\u001b[0m\u001b[0;34m)\u001b[0m\u001b[0;34m\u001b[0m\u001b[0;34m\u001b[0m\u001b[0m\n\u001b[0;32m--> 779\u001b[0;31m             \u001b[0mjob\u001b[0m \u001b[0;34m=\u001b[0m \u001b[0mself\u001b[0m\u001b[0;34m.\u001b[0m\u001b[0m_backend\u001b[0m\u001b[0;34m.\u001b[0m\u001b[0mapply_async\u001b[0m\u001b[0;34m(\u001b[0m\u001b[0mbatch\u001b[0m\u001b[0;34m,\u001b[0m \u001b[0mcallback\u001b[0m\u001b[0;34m=\u001b[0m\u001b[0mcb\u001b[0m\u001b[0;34m)\u001b[0m\u001b[0;34m\u001b[0m\u001b[0;34m\u001b[0m\u001b[0m\n\u001b[0m\u001b[1;32m    780\u001b[0m             \u001b[0;31m# A job can complete so quickly than its callback is\u001b[0m\u001b[0;34m\u001b[0m\u001b[0;34m\u001b[0m\u001b[0;34m\u001b[0m\u001b[0m\n\u001b[1;32m    781\u001b[0m             \u001b[0;31m# called before we get here, causing self._jobs to\u001b[0m\u001b[0;34m\u001b[0m\u001b[0;34m\u001b[0m\u001b[0;34m\u001b[0m\u001b[0m\n",
      "\u001b[0;32m/opt/anaconda3/lib/python3.8/site-packages/joblib/_parallel_backends.py\u001b[0m in \u001b[0;36mapply_async\u001b[0;34m(self, func, callback)\u001b[0m\n\u001b[1;32m    206\u001b[0m     \u001b[0;32mdef\u001b[0m \u001b[0mapply_async\u001b[0m\u001b[0;34m(\u001b[0m\u001b[0mself\u001b[0m\u001b[0;34m,\u001b[0m \u001b[0mfunc\u001b[0m\u001b[0;34m,\u001b[0m \u001b[0mcallback\u001b[0m\u001b[0;34m=\u001b[0m\u001b[0;32mNone\u001b[0m\u001b[0;34m)\u001b[0m\u001b[0;34m:\u001b[0m\u001b[0;34m\u001b[0m\u001b[0;34m\u001b[0m\u001b[0m\n\u001b[1;32m    207\u001b[0m         \u001b[0;34m\"\"\"Schedule a func to be run\"\"\"\u001b[0m\u001b[0;34m\u001b[0m\u001b[0;34m\u001b[0m\u001b[0m\n\u001b[0;32m--> 208\u001b[0;31m         \u001b[0mresult\u001b[0m \u001b[0;34m=\u001b[0m \u001b[0mImmediateResult\u001b[0m\u001b[0;34m(\u001b[0m\u001b[0mfunc\u001b[0m\u001b[0;34m)\u001b[0m\u001b[0;34m\u001b[0m\u001b[0;34m\u001b[0m\u001b[0m\n\u001b[0m\u001b[1;32m    209\u001b[0m         \u001b[0;32mif\u001b[0m \u001b[0mcallback\u001b[0m\u001b[0;34m:\u001b[0m\u001b[0;34m\u001b[0m\u001b[0;34m\u001b[0m\u001b[0m\n\u001b[1;32m    210\u001b[0m             \u001b[0mcallback\u001b[0m\u001b[0;34m(\u001b[0m\u001b[0mresult\u001b[0m\u001b[0;34m)\u001b[0m\u001b[0;34m\u001b[0m\u001b[0;34m\u001b[0m\u001b[0m\n",
      "\u001b[0;32m/opt/anaconda3/lib/python3.8/site-packages/joblib/_parallel_backends.py\u001b[0m in \u001b[0;36m__init__\u001b[0;34m(self, batch)\u001b[0m\n\u001b[1;32m    570\u001b[0m         \u001b[0;31m# Don't delay the application, to avoid keeping the input\u001b[0m\u001b[0;34m\u001b[0m\u001b[0;34m\u001b[0m\u001b[0;34m\u001b[0m\u001b[0m\n\u001b[1;32m    571\u001b[0m         \u001b[0;31m# arguments in memory\u001b[0m\u001b[0;34m\u001b[0m\u001b[0;34m\u001b[0m\u001b[0;34m\u001b[0m\u001b[0m\n\u001b[0;32m--> 572\u001b[0;31m         \u001b[0mself\u001b[0m\u001b[0;34m.\u001b[0m\u001b[0mresults\u001b[0m \u001b[0;34m=\u001b[0m \u001b[0mbatch\u001b[0m\u001b[0;34m(\u001b[0m\u001b[0;34m)\u001b[0m\u001b[0;34m\u001b[0m\u001b[0;34m\u001b[0m\u001b[0m\n\u001b[0m\u001b[1;32m    573\u001b[0m \u001b[0;34m\u001b[0m\u001b[0m\n\u001b[1;32m    574\u001b[0m     \u001b[0;32mdef\u001b[0m \u001b[0mget\u001b[0m\u001b[0;34m(\u001b[0m\u001b[0mself\u001b[0m\u001b[0;34m)\u001b[0m\u001b[0;34m:\u001b[0m\u001b[0;34m\u001b[0m\u001b[0;34m\u001b[0m\u001b[0m\n",
      "\u001b[0;32m/opt/anaconda3/lib/python3.8/site-packages/joblib/parallel.py\u001b[0m in \u001b[0;36m__call__\u001b[0;34m(self)\u001b[0m\n\u001b[1;32m    260\u001b[0m         \u001b[0;31m# change the default number of processes to -1\u001b[0m\u001b[0;34m\u001b[0m\u001b[0;34m\u001b[0m\u001b[0;34m\u001b[0m\u001b[0m\n\u001b[1;32m    261\u001b[0m         \u001b[0;32mwith\u001b[0m \u001b[0mparallel_backend\u001b[0m\u001b[0;34m(\u001b[0m\u001b[0mself\u001b[0m\u001b[0;34m.\u001b[0m\u001b[0m_backend\u001b[0m\u001b[0;34m,\u001b[0m \u001b[0mn_jobs\u001b[0m\u001b[0;34m=\u001b[0m\u001b[0mself\u001b[0m\u001b[0;34m.\u001b[0m\u001b[0m_n_jobs\u001b[0m\u001b[0;34m)\u001b[0m\u001b[0;34m:\u001b[0m\u001b[0;34m\u001b[0m\u001b[0;34m\u001b[0m\u001b[0m\n\u001b[0;32m--> 262\u001b[0;31m             return [func(*args, **kwargs)\n\u001b[0m\u001b[1;32m    263\u001b[0m                     for func, args, kwargs in self.items]\n\u001b[1;32m    264\u001b[0m \u001b[0;34m\u001b[0m\u001b[0m\n",
      "\u001b[0;32m/opt/anaconda3/lib/python3.8/site-packages/joblib/parallel.py\u001b[0m in \u001b[0;36m<listcomp>\u001b[0;34m(.0)\u001b[0m\n\u001b[1;32m    260\u001b[0m         \u001b[0;31m# change the default number of processes to -1\u001b[0m\u001b[0;34m\u001b[0m\u001b[0;34m\u001b[0m\u001b[0;34m\u001b[0m\u001b[0m\n\u001b[1;32m    261\u001b[0m         \u001b[0;32mwith\u001b[0m \u001b[0mparallel_backend\u001b[0m\u001b[0;34m(\u001b[0m\u001b[0mself\u001b[0m\u001b[0;34m.\u001b[0m\u001b[0m_backend\u001b[0m\u001b[0;34m,\u001b[0m \u001b[0mn_jobs\u001b[0m\u001b[0;34m=\u001b[0m\u001b[0mself\u001b[0m\u001b[0;34m.\u001b[0m\u001b[0m_n_jobs\u001b[0m\u001b[0;34m)\u001b[0m\u001b[0;34m:\u001b[0m\u001b[0;34m\u001b[0m\u001b[0;34m\u001b[0m\u001b[0m\n\u001b[0;32m--> 262\u001b[0;31m             return [func(*args, **kwargs)\n\u001b[0m\u001b[1;32m    263\u001b[0m                     for func, args, kwargs in self.items]\n\u001b[1;32m    264\u001b[0m \u001b[0;34m\u001b[0m\u001b[0m\n",
      "\u001b[0;32m/opt/anaconda3/lib/python3.8/site-packages/sklearn/utils/fixes.py\u001b[0m in \u001b[0;36m__call__\u001b[0;34m(self, *args, **kwargs)\u001b[0m\n\u001b[1;32m    209\u001b[0m     \u001b[0;32mdef\u001b[0m \u001b[0m__call__\u001b[0m\u001b[0;34m(\u001b[0m\u001b[0mself\u001b[0m\u001b[0;34m,\u001b[0m \u001b[0;34m*\u001b[0m\u001b[0margs\u001b[0m\u001b[0;34m,\u001b[0m \u001b[0;34m**\u001b[0m\u001b[0mkwargs\u001b[0m\u001b[0;34m)\u001b[0m\u001b[0;34m:\u001b[0m\u001b[0;34m\u001b[0m\u001b[0;34m\u001b[0m\u001b[0m\n\u001b[1;32m    210\u001b[0m         \u001b[0;32mwith\u001b[0m \u001b[0mconfig_context\u001b[0m\u001b[0;34m(\u001b[0m\u001b[0;34m**\u001b[0m\u001b[0mself\u001b[0m\u001b[0;34m.\u001b[0m\u001b[0mconfig\u001b[0m\u001b[0;34m)\u001b[0m\u001b[0;34m:\u001b[0m\u001b[0;34m\u001b[0m\u001b[0;34m\u001b[0m\u001b[0m\n\u001b[0;32m--> 211\u001b[0;31m             \u001b[0;32mreturn\u001b[0m \u001b[0mself\u001b[0m\u001b[0;34m.\u001b[0m\u001b[0mfunction\u001b[0m\u001b[0;34m(\u001b[0m\u001b[0;34m*\u001b[0m\u001b[0margs\u001b[0m\u001b[0;34m,\u001b[0m \u001b[0;34m**\u001b[0m\u001b[0mkwargs\u001b[0m\u001b[0;34m)\u001b[0m\u001b[0;34m\u001b[0m\u001b[0;34m\u001b[0m\u001b[0m\n\u001b[0m\u001b[1;32m    212\u001b[0m \u001b[0;34m\u001b[0m\u001b[0m\n\u001b[1;32m    213\u001b[0m \u001b[0;34m\u001b[0m\u001b[0m\n",
      "\u001b[0;32m/opt/anaconda3/lib/python3.8/site-packages/sklearn/model_selection/_validation.py\u001b[0m in \u001b[0;36m_fit_and_score\u001b[0;34m(estimator, X, y, scorer, train, test, verbose, parameters, fit_params, return_train_score, return_parameters, return_n_test_samples, return_times, return_estimator, split_progress, candidate_progress, error_score)\u001b[0m\n\u001b[1;32m    679\u001b[0m             \u001b[0mestimator\u001b[0m\u001b[0;34m.\u001b[0m\u001b[0mfit\u001b[0m\u001b[0;34m(\u001b[0m\u001b[0mX_train\u001b[0m\u001b[0;34m,\u001b[0m \u001b[0;34m**\u001b[0m\u001b[0mfit_params\u001b[0m\u001b[0;34m)\u001b[0m\u001b[0;34m\u001b[0m\u001b[0;34m\u001b[0m\u001b[0m\n\u001b[1;32m    680\u001b[0m         \u001b[0;32melse\u001b[0m\u001b[0;34m:\u001b[0m\u001b[0;34m\u001b[0m\u001b[0;34m\u001b[0m\u001b[0m\n\u001b[0;32m--> 681\u001b[0;31m             \u001b[0mestimator\u001b[0m\u001b[0;34m.\u001b[0m\u001b[0mfit\u001b[0m\u001b[0;34m(\u001b[0m\u001b[0mX_train\u001b[0m\u001b[0;34m,\u001b[0m \u001b[0my_train\u001b[0m\u001b[0;34m,\u001b[0m \u001b[0;34m**\u001b[0m\u001b[0mfit_params\u001b[0m\u001b[0;34m)\u001b[0m\u001b[0;34m\u001b[0m\u001b[0;34m\u001b[0m\u001b[0m\n\u001b[0m\u001b[1;32m    682\u001b[0m \u001b[0;34m\u001b[0m\u001b[0m\n\u001b[1;32m    683\u001b[0m     \u001b[0;32mexcept\u001b[0m \u001b[0mException\u001b[0m\u001b[0;34m:\u001b[0m\u001b[0;34m\u001b[0m\u001b[0;34m\u001b[0m\u001b[0m\n",
      "\u001b[0;32m/opt/anaconda3/lib/python3.8/site-packages/xgboost/core.py\u001b[0m in \u001b[0;36minner_f\u001b[0;34m(*args, **kwargs)\u001b[0m\n\u001b[1;32m    420\u001b[0m         \u001b[0;32mfor\u001b[0m \u001b[0mk\u001b[0m\u001b[0;34m,\u001b[0m \u001b[0marg\u001b[0m \u001b[0;32min\u001b[0m \u001b[0mzip\u001b[0m\u001b[0;34m(\u001b[0m\u001b[0msig\u001b[0m\u001b[0;34m.\u001b[0m\u001b[0mparameters\u001b[0m\u001b[0;34m,\u001b[0m \u001b[0margs\u001b[0m\u001b[0;34m)\u001b[0m\u001b[0;34m:\u001b[0m\u001b[0;34m\u001b[0m\u001b[0;34m\u001b[0m\u001b[0m\n\u001b[1;32m    421\u001b[0m             \u001b[0mkwargs\u001b[0m\u001b[0;34m[\u001b[0m\u001b[0mk\u001b[0m\u001b[0;34m]\u001b[0m \u001b[0;34m=\u001b[0m \u001b[0marg\u001b[0m\u001b[0;34m\u001b[0m\u001b[0;34m\u001b[0m\u001b[0m\n\u001b[0;32m--> 422\u001b[0;31m         \u001b[0;32mreturn\u001b[0m \u001b[0mf\u001b[0m\u001b[0;34m(\u001b[0m\u001b[0;34m**\u001b[0m\u001b[0mkwargs\u001b[0m\u001b[0;34m)\u001b[0m\u001b[0;34m\u001b[0m\u001b[0;34m\u001b[0m\u001b[0m\n\u001b[0m\u001b[1;32m    423\u001b[0m \u001b[0;34m\u001b[0m\u001b[0m\n\u001b[1;32m    424\u001b[0m     \u001b[0;32mreturn\u001b[0m \u001b[0minner_f\u001b[0m\u001b[0;34m\u001b[0m\u001b[0;34m\u001b[0m\u001b[0m\n",
      "\u001b[0;32m/opt/anaconda3/lib/python3.8/site-packages/xgboost/sklearn.py\u001b[0m in \u001b[0;36mfit\u001b[0;34m(self, X, y, sample_weight, base_margin, eval_set, eval_metric, early_stopping_rounds, verbose, xgb_model, sample_weight_eval_set, feature_weights, callbacks)\u001b[0m\n\u001b[1;32m    907\u001b[0m             eval_group=None, label_transform=label_transform)\n\u001b[1;32m    908\u001b[0m \u001b[0;34m\u001b[0m\u001b[0m\n\u001b[0;32m--> 909\u001b[0;31m         self._Booster = train(xgb_options, train_dmatrix,\n\u001b[0m\u001b[1;32m    910\u001b[0m                               \u001b[0mself\u001b[0m\u001b[0;34m.\u001b[0m\u001b[0mget_num_boosting_rounds\u001b[0m\u001b[0;34m(\u001b[0m\u001b[0;34m)\u001b[0m\u001b[0;34m,\u001b[0m\u001b[0;34m\u001b[0m\u001b[0;34m\u001b[0m\u001b[0m\n\u001b[1;32m    911\u001b[0m                               \u001b[0mevals\u001b[0m\u001b[0;34m=\u001b[0m\u001b[0mevals\u001b[0m\u001b[0;34m,\u001b[0m\u001b[0;34m\u001b[0m\u001b[0;34m\u001b[0m\u001b[0m\n",
      "\u001b[0;32m/opt/anaconda3/lib/python3.8/site-packages/xgboost/training.py\u001b[0m in \u001b[0;36mtrain\u001b[0;34m(params, dtrain, num_boost_round, evals, obj, feval, maximize, early_stopping_rounds, evals_result, verbose_eval, xgb_model, callbacks)\u001b[0m\n\u001b[1;32m    225\u001b[0m     \u001b[0mBooster\u001b[0m \u001b[0;34m:\u001b[0m \u001b[0ma\u001b[0m \u001b[0mtrained\u001b[0m \u001b[0mbooster\u001b[0m \u001b[0mmodel\u001b[0m\u001b[0;34m\u001b[0m\u001b[0;34m\u001b[0m\u001b[0m\n\u001b[1;32m    226\u001b[0m     \"\"\"\n\u001b[0;32m--> 227\u001b[0;31m     bst = _train_internal(params, dtrain,\n\u001b[0m\u001b[1;32m    228\u001b[0m                           \u001b[0mnum_boost_round\u001b[0m\u001b[0;34m=\u001b[0m\u001b[0mnum_boost_round\u001b[0m\u001b[0;34m,\u001b[0m\u001b[0;34m\u001b[0m\u001b[0;34m\u001b[0m\u001b[0m\n\u001b[1;32m    229\u001b[0m                           \u001b[0mevals\u001b[0m\u001b[0;34m=\u001b[0m\u001b[0mevals\u001b[0m\u001b[0;34m,\u001b[0m\u001b[0;34m\u001b[0m\u001b[0;34m\u001b[0m\u001b[0m\n",
      "\u001b[0;32m/opt/anaconda3/lib/python3.8/site-packages/xgboost/training.py\u001b[0m in \u001b[0;36m_train_internal\u001b[0;34m(params, dtrain, num_boost_round, evals, obj, feval, xgb_model, callbacks, evals_result, maximize, verbose_eval, early_stopping_rounds)\u001b[0m\n\u001b[1;32m    100\u001b[0m         \u001b[0;31m# Skip the first update if it is a recovery step.\u001b[0m\u001b[0;34m\u001b[0m\u001b[0;34m\u001b[0m\u001b[0;34m\u001b[0m\u001b[0m\n\u001b[1;32m    101\u001b[0m         \u001b[0;32mif\u001b[0m \u001b[0mversion\u001b[0m \u001b[0;34m%\u001b[0m \u001b[0;36m2\u001b[0m \u001b[0;34m==\u001b[0m \u001b[0;36m0\u001b[0m\u001b[0;34m:\u001b[0m\u001b[0;34m\u001b[0m\u001b[0;34m\u001b[0m\u001b[0m\n\u001b[0;32m--> 102\u001b[0;31m             \u001b[0mbst\u001b[0m\u001b[0;34m.\u001b[0m\u001b[0mupdate\u001b[0m\u001b[0;34m(\u001b[0m\u001b[0mdtrain\u001b[0m\u001b[0;34m,\u001b[0m \u001b[0mi\u001b[0m\u001b[0;34m,\u001b[0m \u001b[0mobj\u001b[0m\u001b[0;34m)\u001b[0m\u001b[0;34m\u001b[0m\u001b[0;34m\u001b[0m\u001b[0m\n\u001b[0m\u001b[1;32m    103\u001b[0m             \u001b[0mbst\u001b[0m\u001b[0;34m.\u001b[0m\u001b[0msave_rabit_checkpoint\u001b[0m\u001b[0;34m(\u001b[0m\u001b[0;34m)\u001b[0m\u001b[0;34m\u001b[0m\u001b[0;34m\u001b[0m\u001b[0m\n\u001b[1;32m    104\u001b[0m             \u001b[0mversion\u001b[0m \u001b[0;34m+=\u001b[0m \u001b[0;36m1\u001b[0m\u001b[0;34m\u001b[0m\u001b[0;34m\u001b[0m\u001b[0m\n",
      "\u001b[0;32m/opt/anaconda3/lib/python3.8/site-packages/xgboost/core.py\u001b[0m in \u001b[0;36mupdate\u001b[0;34m(self, dtrain, iteration, fobj)\u001b[0m\n\u001b[1;32m   1278\u001b[0m \u001b[0;34m\u001b[0m\u001b[0m\n\u001b[1;32m   1279\u001b[0m         \u001b[0;32mif\u001b[0m \u001b[0mfobj\u001b[0m \u001b[0;32mis\u001b[0m \u001b[0;32mNone\u001b[0m\u001b[0;34m:\u001b[0m\u001b[0;34m\u001b[0m\u001b[0;34m\u001b[0m\u001b[0m\n\u001b[0;32m-> 1280\u001b[0;31m             _check_call(_LIB.XGBoosterUpdateOneIter(self.handle,\n\u001b[0m\u001b[1;32m   1281\u001b[0m                                                     \u001b[0mctypes\u001b[0m\u001b[0;34m.\u001b[0m\u001b[0mc_int\u001b[0m\u001b[0;34m(\u001b[0m\u001b[0miteration\u001b[0m\u001b[0;34m)\u001b[0m\u001b[0;34m,\u001b[0m\u001b[0;34m\u001b[0m\u001b[0;34m\u001b[0m\u001b[0m\n\u001b[1;32m   1282\u001b[0m                                                     dtrain.handle))\n",
      "\u001b[0;31mKeyboardInterrupt\u001b[0m: "
     ]
    }
   ],
   "metadata": {}
  },
  {
   "cell_type": "markdown",
   "source": [
    "# GRIDSEARCH FOR GPCLASSIFIER"
   ],
   "metadata": {}
  },
  {
   "cell_type": "code",
   "execution_count": null,
   "source": [
    "a_array = np.array([5e-2, 8e-2, 1e-1, 2e-1, 3e-1, 4e-1])\n",
    "b_array = np.array([3,4,5,6,7])\n",
    "l_array = np.array([3, 4, 5, 6, 7, 8, 9])\n",
    "nu_array = np.array([0.5, 1.5, 2.5, 5, 10, 40])\n",
    "length_scale_array = np.array([0.1, 1, 5, 10])\n",
    "\n",
    "\n",
    "a_array, b_array, l_array, nu_array, length_scale_array = np.meshgrid(a_array, b_array, l_array, nu_array, length_scale_array)\n",
    "cartesian_product = np.concatenate([a_array.flatten().reshape(-1,1), b_array.flatten().reshape(-1,1), l_array.flatten().reshape(-1,1), nu_array.flatten().reshape(-1,1), length_scale_array.flatten().reshape(-1,1)], axis=1)\n",
    "param_grid = [{\n",
    "        \"kernel\": [ConstantKernel(constant_value=a, constant_value_bounds=\"fixed\")*RBF(l, length_scale_bounds=\"fixed\")+ConstantKernel(constant_value=b, constant_value_bounds=\"fixed\")+Matern(length_scale = length_scale, nu = nu, length_scale_bounds=\"fixed\") for a,b,l,nu,length_scale in cartesian_product]\n",
    "    }]\n",
    "\n",
    "gp = GaussianProcessClassifier()\n",
    "\n",
    "grid_search = GridSearchCV(estimator=gp, param_grid=param_grid, cv=4, scoring='f1_micro', verbose=3)\n",
    "\n",
    "# fit the model using the training data\n",
    "grid_search.fit(x_train_features, y_train)\n",
    "print('best parameters:',grid_search.best_params_)\n",
    "\n",
    "y_val_pred = grid_search.predict(x_val_features)\n",
    "y_train_pred = grid_search.predict(x_train_features)\n",
    "print('Val_score',f1_score(y_val, y_val_pred, average='micro'))\n",
    "print('Train_score',f1_score(y_train, y_train_pred, average='micro'))\n",
    "\n",
    "print('best score:',grid_search.best_score_) \n",
    "print(grid_search.cv_results_['split0_test_score'][grid_search.best_index_])\n",
    "print(grid_search.cv_results_['split1_test_score'][grid_search.best_index_])\n",
    "print(grid_search.cv_results_['split2_test_score'][grid_search.best_index_])\n",
    "print(grid_search.cv_results_['split3_test_score'][grid_search.best_index_])"
   ],
   "outputs": [
    {
     "output_type": "stream",
     "name": "stdout",
     "text": [
      "Fitting 4 folds for each of 5040 candidates, totalling 20160 fits\n",
      "[CV 1/4] END kernel=0.224**2 * RBF(length_scale=3) + 1.73**2 + Matern(length_scale=0.1, nu=0.5);, score=0.590 total time=  24.1s\n",
      "[CV 2/4] END kernel=0.224**2 * RBF(length_scale=3) + 1.73**2 + Matern(length_scale=0.1, nu=0.5);, score=0.590 total time=  22.5s\n",
      "[CV 3/4] END kernel=0.224**2 * RBF(length_scale=3) + 1.73**2 + Matern(length_scale=0.1, nu=0.5);, score=0.589 total time=  22.8s\n",
      "[CV 4/4] END kernel=0.224**2 * RBF(length_scale=3) + 1.73**2 + Matern(length_scale=0.1, nu=0.5);, score=0.589 total time=  21.5s\n",
      "[CV 1/4] END kernel=0.224**2 * RBF(length_scale=3) + 1.73**2 + Matern(length_scale=1, nu=0.5);, score=0.590 total time=  21.4s\n",
      "[CV 2/4] END kernel=0.224**2 * RBF(length_scale=3) + 1.73**2 + Matern(length_scale=1, nu=0.5);, score=0.590 total time=  21.6s\n",
      "[CV 3/4] END kernel=0.224**2 * RBF(length_scale=3) + 1.73**2 + Matern(length_scale=1, nu=0.5);, score=0.589 total time=  22.2s\n",
      "[CV 4/4] END kernel=0.224**2 * RBF(length_scale=3) + 1.73**2 + Matern(length_scale=1, nu=0.5);, score=0.589 total time=  21.9s\n",
      "[CV 1/4] END kernel=0.224**2 * RBF(length_scale=3) + 1.73**2 + Matern(length_scale=5, nu=0.5);, score=0.590 total time=  22.6s\n",
      "[CV 2/4] END kernel=0.224**2 * RBF(length_scale=3) + 1.73**2 + Matern(length_scale=5, nu=0.5);, score=0.590 total time=  22.0s\n",
      "[CV 3/4] END kernel=0.224**2 * RBF(length_scale=3) + 1.73**2 + Matern(length_scale=5, nu=0.5);, score=0.589 total time=  21.9s\n",
      "[CV 4/4] END kernel=0.224**2 * RBF(length_scale=3) + 1.73**2 + Matern(length_scale=5, nu=0.5);, score=0.589 total time=  22.6s\n",
      "[CV 1/4] END kernel=0.224**2 * RBF(length_scale=3) + 1.73**2 + Matern(length_scale=10, nu=0.5);, score=0.590 total time=  22.3s\n",
      "[CV 2/4] END kernel=0.224**2 * RBF(length_scale=3) + 1.73**2 + Matern(length_scale=10, nu=0.5);, score=0.590 total time=  22.3s\n",
      "[CV 3/4] END kernel=0.224**2 * RBF(length_scale=3) + 1.73**2 + Matern(length_scale=10, nu=0.5);, score=0.589 total time=  23.3s\n",
      "[CV 4/4] END kernel=0.224**2 * RBF(length_scale=3) + 1.73**2 + Matern(length_scale=10, nu=0.5);, score=0.589 total time=  22.1s\n",
      "[CV 1/4] END kernel=0.224**2 * RBF(length_scale=3) + 1.73**2 + Matern(length_scale=0.1, nu=1.5);, score=0.590 total time=  22.4s\n",
      "[CV 2/4] END kernel=0.224**2 * RBF(length_scale=3) + 1.73**2 + Matern(length_scale=0.1, nu=1.5);, score=0.590 total time=  22.8s\n",
      "[CV 3/4] END kernel=0.224**2 * RBF(length_scale=3) + 1.73**2 + Matern(length_scale=0.1, nu=1.5);, score=0.589 total time=  23.3s\n",
      "[CV 4/4] END kernel=0.224**2 * RBF(length_scale=3) + 1.73**2 + Matern(length_scale=0.1, nu=1.5);, score=0.589 total time=  22.8s\n",
      "[CV 1/4] END kernel=0.224**2 * RBF(length_scale=3) + 1.73**2 + Matern(length_scale=1, nu=1.5);, score=0.590 total time=  23.5s\n",
      "[CV 2/4] END kernel=0.224**2 * RBF(length_scale=3) + 1.73**2 + Matern(length_scale=1, nu=1.5);, score=0.590 total time=  32.4s\n",
      "[CV 3/4] END kernel=0.224**2 * RBF(length_scale=3) + 1.73**2 + Matern(length_scale=1, nu=1.5);, score=0.589 total time=  27.9s\n",
      "[CV 4/4] END kernel=0.224**2 * RBF(length_scale=3) + 1.73**2 + Matern(length_scale=1, nu=1.5);, score=0.589 total time=  23.8s\n",
      "[CV 1/4] END kernel=0.224**2 * RBF(length_scale=3) + 1.73**2 + Matern(length_scale=5, nu=1.5);, score=0.590 total time=  27.2s\n",
      "[CV 2/4] END kernel=0.224**2 * RBF(length_scale=3) + 1.73**2 + Matern(length_scale=5, nu=1.5);, score=0.590 total time=  25.7s\n",
      "[CV 3/4] END kernel=0.224**2 * RBF(length_scale=3) + 1.73**2 + Matern(length_scale=5, nu=1.5);, score=0.589 total time=  32.7s\n",
      "[CV 4/4] END kernel=0.224**2 * RBF(length_scale=3) + 1.73**2 + Matern(length_scale=5, nu=1.5);, score=0.589 total time=  29.1s\n",
      "[CV 1/4] END kernel=0.224**2 * RBF(length_scale=3) + 1.73**2 + Matern(length_scale=10, nu=1.5);, score=0.590 total time=  28.5s\n",
      "[CV 2/4] END kernel=0.224**2 * RBF(length_scale=3) + 1.73**2 + Matern(length_scale=10, nu=1.5);, score=0.590 total time=  33.6s\n",
      "[CV 3/4] END kernel=0.224**2 * RBF(length_scale=3) + 1.73**2 + Matern(length_scale=10, nu=1.5);, score=0.589 total time=  35.5s\n"
     ]
    }
   ],
   "metadata": {}
  },
  {
   "cell_type": "markdown",
   "source": [
    "# GRIDSEARCH FOR RANDOMFOREST"
   ],
   "metadata": {}
  },
  {
   "cell_type": "code",
   "execution_count": 14,
   "source": [
    "# Number of trees in random forest\n",
    "n_estimators = [700, 800 ,900]\n",
    "# Number of features to consider at every split\n",
    "max_features = (np.array([0.45, 0.5, 0.55, 0.7])*x_train_features.shape[1]).astype(int)\n",
    "# Maximum number of levels in tree\n",
    "max_depth = [20, 24, 28, 32]\n",
    "max_depth.append(None)\n",
    "# Minimum number of samples required to split a node\n",
    "min_samples_split = [4,5,6,7]\n",
    "# Minimum number of samples required at each leaf node\n",
    "min_samples_leaf = [2, 3]\n",
    "# Method of selecting samples for training each tree\n",
    "#bootstrap = [True, False]\n",
    "# Create the random grid\n",
    "param_dict = {'n_estimators': n_estimators,\n",
    "               'max_features': max_features,\n",
    "               'max_depth': max_depth,\n",
    "               'min_samples_split': min_samples_split,\n",
    "               'min_samples_leaf': min_samples_leaf,\n",
    "               }\n",
    "\n",
    "model = RandomForestClassifier(class_weight='balanced', random_state=42)\n",
    "\n",
    "grid_search = GridSearchCV(model, param_dict, refit=True, cv=4, scoring='f1_micro', verbose = 3)\n",
    "\n",
    "# fit the model using the training data\n",
    "grid_search.fit(x_train_features, y_train)\n",
    "print('best parameters:',grid_search.best_params_)\n",
    "\n",
    "y_val_pred = grid_search.predict(x_val_features)\n",
    "y_train_pred = grid_search.predict(x_train_features)\n",
    "print('Val_score',f1_score(y_val, y_val_pred, average='micro'))\n",
    "print('Train_score',f1_score(y_train, y_train_pred, average='micro'))\n",
    "\n",
    "print('best score:',grid_search.best_score_) \n",
    "print(grid_search.cv_results_['split0_test_score'][grid_search.best_index_])\n",
    "print(grid_search.cv_results_['split1_test_score'][grid_search.best_index_])\n",
    "print(grid_search.cv_results_['split2_test_score'][grid_search.best_index_])\n",
    "print(grid_search.cv_results_['split3_test_score'][grid_search.best_index_])\n",
    "\n"
   ],
   "outputs": [
    {
     "output_type": "stream",
     "name": "stdout",
     "text": [
      "Fitting 4 folds for each of 480 candidates, totalling 1920 fits\n",
      "[CV 1/4] END max_depth=20, max_features=6, min_samples_leaf=2, min_samples_split=4, n_estimators=700;, score=0.739 total time=  10.4s\n",
      "[CV 2/4] END max_depth=20, max_features=6, min_samples_leaf=2, min_samples_split=4, n_estimators=700;, score=0.756 total time=   8.4s\n",
      "[CV 3/4] END max_depth=20, max_features=6, min_samples_leaf=2, min_samples_split=4, n_estimators=700;, score=0.729 total time=   9.3s\n",
      "[CV 4/4] END max_depth=20, max_features=6, min_samples_leaf=2, min_samples_split=4, n_estimators=700;, score=0.728 total time=   9.4s\n",
      "[CV 1/4] END max_depth=20, max_features=6, min_samples_leaf=2, min_samples_split=4, n_estimators=800;, score=0.736 total time=  11.0s\n",
      "[CV 2/4] END max_depth=20, max_features=6, min_samples_leaf=2, min_samples_split=4, n_estimators=800;, score=0.755 total time=   9.7s\n",
      "[CV 3/4] END max_depth=20, max_features=6, min_samples_leaf=2, min_samples_split=4, n_estimators=800;, score=0.730 total time=  13.5s\n",
      "[CV 4/4] END max_depth=20, max_features=6, min_samples_leaf=2, min_samples_split=4, n_estimators=800;, score=0.725 total time=  11.3s\n",
      "[CV 1/4] END max_depth=20, max_features=6, min_samples_leaf=2, min_samples_split=4, n_estimators=900;, score=0.739 total time=  12.6s\n",
      "[CV 2/4] END max_depth=20, max_features=6, min_samples_leaf=2, min_samples_split=4, n_estimators=900;, score=0.757 total time=  14.9s\n",
      "[CV 3/4] END max_depth=20, max_features=6, min_samples_leaf=2, min_samples_split=4, n_estimators=900;, score=0.730 total time=  16.6s\n",
      "[CV 4/4] END max_depth=20, max_features=6, min_samples_leaf=2, min_samples_split=4, n_estimators=900;, score=0.726 total time=  15.4s\n",
      "[CV 1/4] END max_depth=20, max_features=6, min_samples_leaf=2, min_samples_split=5, n_estimators=700;, score=0.746 total time=   9.3s\n",
      "[CV 2/4] END max_depth=20, max_features=6, min_samples_leaf=2, min_samples_split=5, n_estimators=700;, score=0.758 total time=  10.9s\n",
      "[CV 3/4] END max_depth=20, max_features=6, min_samples_leaf=2, min_samples_split=5, n_estimators=700;, score=0.735 total time=  12.0s\n",
      "[CV 4/4] END max_depth=20, max_features=6, min_samples_leaf=2, min_samples_split=5, n_estimators=700;, score=0.732 total time=   8.6s\n",
      "[CV 1/4] END max_depth=20, max_features=6, min_samples_leaf=2, min_samples_split=5, n_estimators=800;, score=0.745 total time=   9.9s\n"
     ]
    },
    {
     "output_type": "error",
     "ename": "KeyboardInterrupt",
     "evalue": "",
     "traceback": [
      "\u001b[0;31m---------------------------------------------------------------------------\u001b[0m",
      "\u001b[0;31mKeyboardInterrupt\u001b[0m                         Traceback (most recent call last)",
      "\u001b[0;32m/var/folders/mj/kcb9f_n104z8fw8t77lzvcv80000gn/T/ipykernel_26703/4017103817.py\u001b[0m in \u001b[0;36m<module>\u001b[0;34m\u001b[0m\n\u001b[1;32m     25\u001b[0m \u001b[0;34m\u001b[0m\u001b[0m\n\u001b[1;32m     26\u001b[0m \u001b[0;31m# fit the model using the training data\u001b[0m\u001b[0;34m\u001b[0m\u001b[0;34m\u001b[0m\u001b[0;34m\u001b[0m\u001b[0m\n\u001b[0;32m---> 27\u001b[0;31m \u001b[0mgrid_search\u001b[0m\u001b[0;34m.\u001b[0m\u001b[0mfit\u001b[0m\u001b[0;34m(\u001b[0m\u001b[0mx_train_features\u001b[0m\u001b[0;34m,\u001b[0m \u001b[0my_train\u001b[0m\u001b[0;34m)\u001b[0m\u001b[0;34m\u001b[0m\u001b[0;34m\u001b[0m\u001b[0m\n\u001b[0m\u001b[1;32m     28\u001b[0m \u001b[0mprint\u001b[0m\u001b[0;34m(\u001b[0m\u001b[0;34m'best parameters:'\u001b[0m\u001b[0;34m,\u001b[0m\u001b[0mgrid_search\u001b[0m\u001b[0;34m.\u001b[0m\u001b[0mbest_params_\u001b[0m\u001b[0;34m)\u001b[0m\u001b[0;34m\u001b[0m\u001b[0;34m\u001b[0m\u001b[0m\n\u001b[1;32m     29\u001b[0m \u001b[0;34m\u001b[0m\u001b[0m\n",
      "\u001b[0;32m/opt/anaconda3/lib/python3.8/site-packages/sklearn/model_selection/_search.py\u001b[0m in \u001b[0;36mfit\u001b[0;34m(self, X, y, groups, **fit_params)\u001b[0m\n\u001b[1;32m    889\u001b[0m                 \u001b[0;32mreturn\u001b[0m \u001b[0mresults\u001b[0m\u001b[0;34m\u001b[0m\u001b[0;34m\u001b[0m\u001b[0m\n\u001b[1;32m    890\u001b[0m \u001b[0;34m\u001b[0m\u001b[0m\n\u001b[0;32m--> 891\u001b[0;31m             \u001b[0mself\u001b[0m\u001b[0;34m.\u001b[0m\u001b[0m_run_search\u001b[0m\u001b[0;34m(\u001b[0m\u001b[0mevaluate_candidates\u001b[0m\u001b[0;34m)\u001b[0m\u001b[0;34m\u001b[0m\u001b[0;34m\u001b[0m\u001b[0m\n\u001b[0m\u001b[1;32m    892\u001b[0m \u001b[0;34m\u001b[0m\u001b[0m\n\u001b[1;32m    893\u001b[0m             \u001b[0;31m# multimetric is determined here because in the case of a callable\u001b[0m\u001b[0;34m\u001b[0m\u001b[0;34m\u001b[0m\u001b[0;34m\u001b[0m\u001b[0m\n",
      "\u001b[0;32m/opt/anaconda3/lib/python3.8/site-packages/sklearn/model_selection/_search.py\u001b[0m in \u001b[0;36m_run_search\u001b[0;34m(self, evaluate_candidates)\u001b[0m\n\u001b[1;32m   1390\u001b[0m     \u001b[0;32mdef\u001b[0m \u001b[0m_run_search\u001b[0m\u001b[0;34m(\u001b[0m\u001b[0mself\u001b[0m\u001b[0;34m,\u001b[0m \u001b[0mevaluate_candidates\u001b[0m\u001b[0;34m)\u001b[0m\u001b[0;34m:\u001b[0m\u001b[0;34m\u001b[0m\u001b[0;34m\u001b[0m\u001b[0m\n\u001b[1;32m   1391\u001b[0m         \u001b[0;34m\"\"\"Search all candidates in param_grid\"\"\"\u001b[0m\u001b[0;34m\u001b[0m\u001b[0;34m\u001b[0m\u001b[0m\n\u001b[0;32m-> 1392\u001b[0;31m         \u001b[0mevaluate_candidates\u001b[0m\u001b[0;34m(\u001b[0m\u001b[0mParameterGrid\u001b[0m\u001b[0;34m(\u001b[0m\u001b[0mself\u001b[0m\u001b[0;34m.\u001b[0m\u001b[0mparam_grid\u001b[0m\u001b[0;34m)\u001b[0m\u001b[0;34m)\u001b[0m\u001b[0;34m\u001b[0m\u001b[0;34m\u001b[0m\u001b[0m\n\u001b[0m\u001b[1;32m   1393\u001b[0m \u001b[0;34m\u001b[0m\u001b[0m\n\u001b[1;32m   1394\u001b[0m \u001b[0;34m\u001b[0m\u001b[0m\n",
      "\u001b[0;32m/opt/anaconda3/lib/python3.8/site-packages/sklearn/model_selection/_search.py\u001b[0m in \u001b[0;36mevaluate_candidates\u001b[0;34m(candidate_params, cv, more_results)\u001b[0m\n\u001b[1;32m    836\u001b[0m                     )\n\u001b[1;32m    837\u001b[0m \u001b[0;34m\u001b[0m\u001b[0m\n\u001b[0;32m--> 838\u001b[0;31m                 out = parallel(\n\u001b[0m\u001b[1;32m    839\u001b[0m                     delayed(_fit_and_score)(\n\u001b[1;32m    840\u001b[0m                         \u001b[0mclone\u001b[0m\u001b[0;34m(\u001b[0m\u001b[0mbase_estimator\u001b[0m\u001b[0;34m)\u001b[0m\u001b[0;34m,\u001b[0m\u001b[0;34m\u001b[0m\u001b[0;34m\u001b[0m\u001b[0m\n",
      "\u001b[0;32m/opt/anaconda3/lib/python3.8/site-packages/joblib/parallel.py\u001b[0m in \u001b[0;36m__call__\u001b[0;34m(self, iterable)\u001b[0m\n\u001b[1;32m   1044\u001b[0m                 \u001b[0mself\u001b[0m\u001b[0;34m.\u001b[0m\u001b[0m_iterating\u001b[0m \u001b[0;34m=\u001b[0m \u001b[0mself\u001b[0m\u001b[0;34m.\u001b[0m\u001b[0m_original_iterator\u001b[0m \u001b[0;32mis\u001b[0m \u001b[0;32mnot\u001b[0m \u001b[0;32mNone\u001b[0m\u001b[0;34m\u001b[0m\u001b[0;34m\u001b[0m\u001b[0m\n\u001b[1;32m   1045\u001b[0m \u001b[0;34m\u001b[0m\u001b[0m\n\u001b[0;32m-> 1046\u001b[0;31m             \u001b[0;32mwhile\u001b[0m \u001b[0mself\u001b[0m\u001b[0;34m.\u001b[0m\u001b[0mdispatch_one_batch\u001b[0m\u001b[0;34m(\u001b[0m\u001b[0miterator\u001b[0m\u001b[0;34m)\u001b[0m\u001b[0;34m:\u001b[0m\u001b[0;34m\u001b[0m\u001b[0;34m\u001b[0m\u001b[0m\n\u001b[0m\u001b[1;32m   1047\u001b[0m                 \u001b[0;32mpass\u001b[0m\u001b[0;34m\u001b[0m\u001b[0;34m\u001b[0m\u001b[0m\n\u001b[1;32m   1048\u001b[0m \u001b[0;34m\u001b[0m\u001b[0m\n",
      "\u001b[0;32m/opt/anaconda3/lib/python3.8/site-packages/joblib/parallel.py\u001b[0m in \u001b[0;36mdispatch_one_batch\u001b[0;34m(self, iterator)\u001b[0m\n\u001b[1;32m    859\u001b[0m                 \u001b[0;32mreturn\u001b[0m \u001b[0;32mFalse\u001b[0m\u001b[0;34m\u001b[0m\u001b[0;34m\u001b[0m\u001b[0m\n\u001b[1;32m    860\u001b[0m             \u001b[0;32melse\u001b[0m\u001b[0;34m:\u001b[0m\u001b[0;34m\u001b[0m\u001b[0;34m\u001b[0m\u001b[0m\n\u001b[0;32m--> 861\u001b[0;31m                 \u001b[0mself\u001b[0m\u001b[0;34m.\u001b[0m\u001b[0m_dispatch\u001b[0m\u001b[0;34m(\u001b[0m\u001b[0mtasks\u001b[0m\u001b[0;34m)\u001b[0m\u001b[0;34m\u001b[0m\u001b[0;34m\u001b[0m\u001b[0m\n\u001b[0m\u001b[1;32m    862\u001b[0m                 \u001b[0;32mreturn\u001b[0m \u001b[0;32mTrue\u001b[0m\u001b[0;34m\u001b[0m\u001b[0;34m\u001b[0m\u001b[0m\n\u001b[1;32m    863\u001b[0m \u001b[0;34m\u001b[0m\u001b[0m\n",
      "\u001b[0;32m/opt/anaconda3/lib/python3.8/site-packages/joblib/parallel.py\u001b[0m in \u001b[0;36m_dispatch\u001b[0;34m(self, batch)\u001b[0m\n\u001b[1;32m    777\u001b[0m         \u001b[0;32mwith\u001b[0m \u001b[0mself\u001b[0m\u001b[0;34m.\u001b[0m\u001b[0m_lock\u001b[0m\u001b[0;34m:\u001b[0m\u001b[0;34m\u001b[0m\u001b[0;34m\u001b[0m\u001b[0m\n\u001b[1;32m    778\u001b[0m             \u001b[0mjob_idx\u001b[0m \u001b[0;34m=\u001b[0m \u001b[0mlen\u001b[0m\u001b[0;34m(\u001b[0m\u001b[0mself\u001b[0m\u001b[0;34m.\u001b[0m\u001b[0m_jobs\u001b[0m\u001b[0;34m)\u001b[0m\u001b[0;34m\u001b[0m\u001b[0;34m\u001b[0m\u001b[0m\n\u001b[0;32m--> 779\u001b[0;31m             \u001b[0mjob\u001b[0m \u001b[0;34m=\u001b[0m \u001b[0mself\u001b[0m\u001b[0;34m.\u001b[0m\u001b[0m_backend\u001b[0m\u001b[0;34m.\u001b[0m\u001b[0mapply_async\u001b[0m\u001b[0;34m(\u001b[0m\u001b[0mbatch\u001b[0m\u001b[0;34m,\u001b[0m \u001b[0mcallback\u001b[0m\u001b[0;34m=\u001b[0m\u001b[0mcb\u001b[0m\u001b[0;34m)\u001b[0m\u001b[0;34m\u001b[0m\u001b[0;34m\u001b[0m\u001b[0m\n\u001b[0m\u001b[1;32m    780\u001b[0m             \u001b[0;31m# A job can complete so quickly than its callback is\u001b[0m\u001b[0;34m\u001b[0m\u001b[0;34m\u001b[0m\u001b[0;34m\u001b[0m\u001b[0m\n\u001b[1;32m    781\u001b[0m             \u001b[0;31m# called before we get here, causing self._jobs to\u001b[0m\u001b[0;34m\u001b[0m\u001b[0;34m\u001b[0m\u001b[0;34m\u001b[0m\u001b[0m\n",
      "\u001b[0;32m/opt/anaconda3/lib/python3.8/site-packages/joblib/_parallel_backends.py\u001b[0m in \u001b[0;36mapply_async\u001b[0;34m(self, func, callback)\u001b[0m\n\u001b[1;32m    206\u001b[0m     \u001b[0;32mdef\u001b[0m \u001b[0mapply_async\u001b[0m\u001b[0;34m(\u001b[0m\u001b[0mself\u001b[0m\u001b[0;34m,\u001b[0m \u001b[0mfunc\u001b[0m\u001b[0;34m,\u001b[0m \u001b[0mcallback\u001b[0m\u001b[0;34m=\u001b[0m\u001b[0;32mNone\u001b[0m\u001b[0;34m)\u001b[0m\u001b[0;34m:\u001b[0m\u001b[0;34m\u001b[0m\u001b[0;34m\u001b[0m\u001b[0m\n\u001b[1;32m    207\u001b[0m         \u001b[0;34m\"\"\"Schedule a func to be run\"\"\"\u001b[0m\u001b[0;34m\u001b[0m\u001b[0;34m\u001b[0m\u001b[0m\n\u001b[0;32m--> 208\u001b[0;31m         \u001b[0mresult\u001b[0m \u001b[0;34m=\u001b[0m \u001b[0mImmediateResult\u001b[0m\u001b[0;34m(\u001b[0m\u001b[0mfunc\u001b[0m\u001b[0;34m)\u001b[0m\u001b[0;34m\u001b[0m\u001b[0;34m\u001b[0m\u001b[0m\n\u001b[0m\u001b[1;32m    209\u001b[0m         \u001b[0;32mif\u001b[0m \u001b[0mcallback\u001b[0m\u001b[0;34m:\u001b[0m\u001b[0;34m\u001b[0m\u001b[0;34m\u001b[0m\u001b[0m\n\u001b[1;32m    210\u001b[0m             \u001b[0mcallback\u001b[0m\u001b[0;34m(\u001b[0m\u001b[0mresult\u001b[0m\u001b[0;34m)\u001b[0m\u001b[0;34m\u001b[0m\u001b[0;34m\u001b[0m\u001b[0m\n",
      "\u001b[0;32m/opt/anaconda3/lib/python3.8/site-packages/joblib/_parallel_backends.py\u001b[0m in \u001b[0;36m__init__\u001b[0;34m(self, batch)\u001b[0m\n\u001b[1;32m    570\u001b[0m         \u001b[0;31m# Don't delay the application, to avoid keeping the input\u001b[0m\u001b[0;34m\u001b[0m\u001b[0;34m\u001b[0m\u001b[0;34m\u001b[0m\u001b[0m\n\u001b[1;32m    571\u001b[0m         \u001b[0;31m# arguments in memory\u001b[0m\u001b[0;34m\u001b[0m\u001b[0;34m\u001b[0m\u001b[0;34m\u001b[0m\u001b[0m\n\u001b[0;32m--> 572\u001b[0;31m         \u001b[0mself\u001b[0m\u001b[0;34m.\u001b[0m\u001b[0mresults\u001b[0m \u001b[0;34m=\u001b[0m \u001b[0mbatch\u001b[0m\u001b[0;34m(\u001b[0m\u001b[0;34m)\u001b[0m\u001b[0;34m\u001b[0m\u001b[0;34m\u001b[0m\u001b[0m\n\u001b[0m\u001b[1;32m    573\u001b[0m \u001b[0;34m\u001b[0m\u001b[0m\n\u001b[1;32m    574\u001b[0m     \u001b[0;32mdef\u001b[0m \u001b[0mget\u001b[0m\u001b[0;34m(\u001b[0m\u001b[0mself\u001b[0m\u001b[0;34m)\u001b[0m\u001b[0;34m:\u001b[0m\u001b[0;34m\u001b[0m\u001b[0;34m\u001b[0m\u001b[0m\n",
      "\u001b[0;32m/opt/anaconda3/lib/python3.8/site-packages/joblib/parallel.py\u001b[0m in \u001b[0;36m__call__\u001b[0;34m(self)\u001b[0m\n\u001b[1;32m    260\u001b[0m         \u001b[0;31m# change the default number of processes to -1\u001b[0m\u001b[0;34m\u001b[0m\u001b[0;34m\u001b[0m\u001b[0;34m\u001b[0m\u001b[0m\n\u001b[1;32m    261\u001b[0m         \u001b[0;32mwith\u001b[0m \u001b[0mparallel_backend\u001b[0m\u001b[0;34m(\u001b[0m\u001b[0mself\u001b[0m\u001b[0;34m.\u001b[0m\u001b[0m_backend\u001b[0m\u001b[0;34m,\u001b[0m \u001b[0mn_jobs\u001b[0m\u001b[0;34m=\u001b[0m\u001b[0mself\u001b[0m\u001b[0;34m.\u001b[0m\u001b[0m_n_jobs\u001b[0m\u001b[0;34m)\u001b[0m\u001b[0;34m:\u001b[0m\u001b[0;34m\u001b[0m\u001b[0;34m\u001b[0m\u001b[0m\n\u001b[0;32m--> 262\u001b[0;31m             return [func(*args, **kwargs)\n\u001b[0m\u001b[1;32m    263\u001b[0m                     for func, args, kwargs in self.items]\n\u001b[1;32m    264\u001b[0m \u001b[0;34m\u001b[0m\u001b[0m\n",
      "\u001b[0;32m/opt/anaconda3/lib/python3.8/site-packages/joblib/parallel.py\u001b[0m in \u001b[0;36m<listcomp>\u001b[0;34m(.0)\u001b[0m\n\u001b[1;32m    260\u001b[0m         \u001b[0;31m# change the default number of processes to -1\u001b[0m\u001b[0;34m\u001b[0m\u001b[0;34m\u001b[0m\u001b[0;34m\u001b[0m\u001b[0m\n\u001b[1;32m    261\u001b[0m         \u001b[0;32mwith\u001b[0m \u001b[0mparallel_backend\u001b[0m\u001b[0;34m(\u001b[0m\u001b[0mself\u001b[0m\u001b[0;34m.\u001b[0m\u001b[0m_backend\u001b[0m\u001b[0;34m,\u001b[0m \u001b[0mn_jobs\u001b[0m\u001b[0;34m=\u001b[0m\u001b[0mself\u001b[0m\u001b[0;34m.\u001b[0m\u001b[0m_n_jobs\u001b[0m\u001b[0;34m)\u001b[0m\u001b[0;34m:\u001b[0m\u001b[0;34m\u001b[0m\u001b[0;34m\u001b[0m\u001b[0m\n\u001b[0;32m--> 262\u001b[0;31m             return [func(*args, **kwargs)\n\u001b[0m\u001b[1;32m    263\u001b[0m                     for func, args, kwargs in self.items]\n\u001b[1;32m    264\u001b[0m \u001b[0;34m\u001b[0m\u001b[0m\n",
      "\u001b[0;32m/opt/anaconda3/lib/python3.8/site-packages/sklearn/utils/fixes.py\u001b[0m in \u001b[0;36m__call__\u001b[0;34m(self, *args, **kwargs)\u001b[0m\n\u001b[1;32m    209\u001b[0m     \u001b[0;32mdef\u001b[0m \u001b[0m__call__\u001b[0m\u001b[0;34m(\u001b[0m\u001b[0mself\u001b[0m\u001b[0;34m,\u001b[0m \u001b[0;34m*\u001b[0m\u001b[0margs\u001b[0m\u001b[0;34m,\u001b[0m \u001b[0;34m**\u001b[0m\u001b[0mkwargs\u001b[0m\u001b[0;34m)\u001b[0m\u001b[0;34m:\u001b[0m\u001b[0;34m\u001b[0m\u001b[0;34m\u001b[0m\u001b[0m\n\u001b[1;32m    210\u001b[0m         \u001b[0;32mwith\u001b[0m \u001b[0mconfig_context\u001b[0m\u001b[0;34m(\u001b[0m\u001b[0;34m**\u001b[0m\u001b[0mself\u001b[0m\u001b[0;34m.\u001b[0m\u001b[0mconfig\u001b[0m\u001b[0;34m)\u001b[0m\u001b[0;34m:\u001b[0m\u001b[0;34m\u001b[0m\u001b[0;34m\u001b[0m\u001b[0m\n\u001b[0;32m--> 211\u001b[0;31m             \u001b[0;32mreturn\u001b[0m \u001b[0mself\u001b[0m\u001b[0;34m.\u001b[0m\u001b[0mfunction\u001b[0m\u001b[0;34m(\u001b[0m\u001b[0;34m*\u001b[0m\u001b[0margs\u001b[0m\u001b[0;34m,\u001b[0m \u001b[0;34m**\u001b[0m\u001b[0mkwargs\u001b[0m\u001b[0;34m)\u001b[0m\u001b[0;34m\u001b[0m\u001b[0;34m\u001b[0m\u001b[0m\n\u001b[0m\u001b[1;32m    212\u001b[0m \u001b[0;34m\u001b[0m\u001b[0m\n\u001b[1;32m    213\u001b[0m \u001b[0;34m\u001b[0m\u001b[0m\n",
      "\u001b[0;32m/opt/anaconda3/lib/python3.8/site-packages/sklearn/model_selection/_validation.py\u001b[0m in \u001b[0;36m_fit_and_score\u001b[0;34m(estimator, X, y, scorer, train, test, verbose, parameters, fit_params, return_train_score, return_parameters, return_n_test_samples, return_times, return_estimator, split_progress, candidate_progress, error_score)\u001b[0m\n\u001b[1;32m    679\u001b[0m             \u001b[0mestimator\u001b[0m\u001b[0;34m.\u001b[0m\u001b[0mfit\u001b[0m\u001b[0;34m(\u001b[0m\u001b[0mX_train\u001b[0m\u001b[0;34m,\u001b[0m \u001b[0;34m**\u001b[0m\u001b[0mfit_params\u001b[0m\u001b[0;34m)\u001b[0m\u001b[0;34m\u001b[0m\u001b[0;34m\u001b[0m\u001b[0m\n\u001b[1;32m    680\u001b[0m         \u001b[0;32melse\u001b[0m\u001b[0;34m:\u001b[0m\u001b[0;34m\u001b[0m\u001b[0;34m\u001b[0m\u001b[0m\n\u001b[0;32m--> 681\u001b[0;31m             \u001b[0mestimator\u001b[0m\u001b[0;34m.\u001b[0m\u001b[0mfit\u001b[0m\u001b[0;34m(\u001b[0m\u001b[0mX_train\u001b[0m\u001b[0;34m,\u001b[0m \u001b[0my_train\u001b[0m\u001b[0;34m,\u001b[0m \u001b[0;34m**\u001b[0m\u001b[0mfit_params\u001b[0m\u001b[0;34m)\u001b[0m\u001b[0;34m\u001b[0m\u001b[0;34m\u001b[0m\u001b[0m\n\u001b[0m\u001b[1;32m    682\u001b[0m \u001b[0;34m\u001b[0m\u001b[0m\n\u001b[1;32m    683\u001b[0m     \u001b[0;32mexcept\u001b[0m \u001b[0mException\u001b[0m\u001b[0;34m:\u001b[0m\u001b[0;34m\u001b[0m\u001b[0;34m\u001b[0m\u001b[0m\n",
      "\u001b[0;32m/opt/anaconda3/lib/python3.8/site-packages/sklearn/ensemble/_forest.py\u001b[0m in \u001b[0;36mfit\u001b[0;34m(self, X, y, sample_weight)\u001b[0m\n\u001b[1;32m    440\u001b[0m             \u001b[0;31m# parallel_backend contexts set at a higher level,\u001b[0m\u001b[0;34m\u001b[0m\u001b[0;34m\u001b[0m\u001b[0;34m\u001b[0m\u001b[0m\n\u001b[1;32m    441\u001b[0m             \u001b[0;31m# since correctness does not rely on using threads.\u001b[0m\u001b[0;34m\u001b[0m\u001b[0;34m\u001b[0m\u001b[0;34m\u001b[0m\u001b[0m\n\u001b[0;32m--> 442\u001b[0;31m             trees = Parallel(\n\u001b[0m\u001b[1;32m    443\u001b[0m                 \u001b[0mn_jobs\u001b[0m\u001b[0;34m=\u001b[0m\u001b[0mself\u001b[0m\u001b[0;34m.\u001b[0m\u001b[0mn_jobs\u001b[0m\u001b[0;34m,\u001b[0m\u001b[0;34m\u001b[0m\u001b[0;34m\u001b[0m\u001b[0m\n\u001b[1;32m    444\u001b[0m                 \u001b[0mverbose\u001b[0m\u001b[0;34m=\u001b[0m\u001b[0mself\u001b[0m\u001b[0;34m.\u001b[0m\u001b[0mverbose\u001b[0m\u001b[0;34m,\u001b[0m\u001b[0;34m\u001b[0m\u001b[0;34m\u001b[0m\u001b[0m\n",
      "\u001b[0;32m/opt/anaconda3/lib/python3.8/site-packages/joblib/parallel.py\u001b[0m in \u001b[0;36m__call__\u001b[0;34m(self, iterable)\u001b[0m\n\u001b[1;32m   1044\u001b[0m                 \u001b[0mself\u001b[0m\u001b[0;34m.\u001b[0m\u001b[0m_iterating\u001b[0m \u001b[0;34m=\u001b[0m \u001b[0mself\u001b[0m\u001b[0;34m.\u001b[0m\u001b[0m_original_iterator\u001b[0m \u001b[0;32mis\u001b[0m \u001b[0;32mnot\u001b[0m \u001b[0;32mNone\u001b[0m\u001b[0;34m\u001b[0m\u001b[0;34m\u001b[0m\u001b[0m\n\u001b[1;32m   1045\u001b[0m \u001b[0;34m\u001b[0m\u001b[0m\n\u001b[0;32m-> 1046\u001b[0;31m             \u001b[0;32mwhile\u001b[0m \u001b[0mself\u001b[0m\u001b[0;34m.\u001b[0m\u001b[0mdispatch_one_batch\u001b[0m\u001b[0;34m(\u001b[0m\u001b[0miterator\u001b[0m\u001b[0;34m)\u001b[0m\u001b[0;34m:\u001b[0m\u001b[0;34m\u001b[0m\u001b[0;34m\u001b[0m\u001b[0m\n\u001b[0m\u001b[1;32m   1047\u001b[0m                 \u001b[0;32mpass\u001b[0m\u001b[0;34m\u001b[0m\u001b[0;34m\u001b[0m\u001b[0m\n\u001b[1;32m   1048\u001b[0m \u001b[0;34m\u001b[0m\u001b[0m\n",
      "\u001b[0;32m/opt/anaconda3/lib/python3.8/site-packages/joblib/parallel.py\u001b[0m in \u001b[0;36mdispatch_one_batch\u001b[0;34m(self, iterator)\u001b[0m\n\u001b[1;32m    859\u001b[0m                 \u001b[0;32mreturn\u001b[0m \u001b[0;32mFalse\u001b[0m\u001b[0;34m\u001b[0m\u001b[0;34m\u001b[0m\u001b[0m\n\u001b[1;32m    860\u001b[0m             \u001b[0;32melse\u001b[0m\u001b[0;34m:\u001b[0m\u001b[0;34m\u001b[0m\u001b[0;34m\u001b[0m\u001b[0m\n\u001b[0;32m--> 861\u001b[0;31m                 \u001b[0mself\u001b[0m\u001b[0;34m.\u001b[0m\u001b[0m_dispatch\u001b[0m\u001b[0;34m(\u001b[0m\u001b[0mtasks\u001b[0m\u001b[0;34m)\u001b[0m\u001b[0;34m\u001b[0m\u001b[0;34m\u001b[0m\u001b[0m\n\u001b[0m\u001b[1;32m    862\u001b[0m                 \u001b[0;32mreturn\u001b[0m \u001b[0;32mTrue\u001b[0m\u001b[0;34m\u001b[0m\u001b[0;34m\u001b[0m\u001b[0m\n\u001b[1;32m    863\u001b[0m \u001b[0;34m\u001b[0m\u001b[0m\n",
      "\u001b[0;32m/opt/anaconda3/lib/python3.8/site-packages/joblib/parallel.py\u001b[0m in \u001b[0;36m_dispatch\u001b[0;34m(self, batch)\u001b[0m\n\u001b[1;32m    777\u001b[0m         \u001b[0;32mwith\u001b[0m \u001b[0mself\u001b[0m\u001b[0;34m.\u001b[0m\u001b[0m_lock\u001b[0m\u001b[0;34m:\u001b[0m\u001b[0;34m\u001b[0m\u001b[0;34m\u001b[0m\u001b[0m\n\u001b[1;32m    778\u001b[0m             \u001b[0mjob_idx\u001b[0m \u001b[0;34m=\u001b[0m \u001b[0mlen\u001b[0m\u001b[0;34m(\u001b[0m\u001b[0mself\u001b[0m\u001b[0;34m.\u001b[0m\u001b[0m_jobs\u001b[0m\u001b[0;34m)\u001b[0m\u001b[0;34m\u001b[0m\u001b[0;34m\u001b[0m\u001b[0m\n\u001b[0;32m--> 779\u001b[0;31m             \u001b[0mjob\u001b[0m \u001b[0;34m=\u001b[0m \u001b[0mself\u001b[0m\u001b[0;34m.\u001b[0m\u001b[0m_backend\u001b[0m\u001b[0;34m.\u001b[0m\u001b[0mapply_async\u001b[0m\u001b[0;34m(\u001b[0m\u001b[0mbatch\u001b[0m\u001b[0;34m,\u001b[0m \u001b[0mcallback\u001b[0m\u001b[0;34m=\u001b[0m\u001b[0mcb\u001b[0m\u001b[0;34m)\u001b[0m\u001b[0;34m\u001b[0m\u001b[0;34m\u001b[0m\u001b[0m\n\u001b[0m\u001b[1;32m    780\u001b[0m             \u001b[0;31m# A job can complete so quickly than its callback is\u001b[0m\u001b[0;34m\u001b[0m\u001b[0;34m\u001b[0m\u001b[0;34m\u001b[0m\u001b[0m\n\u001b[1;32m    781\u001b[0m             \u001b[0;31m# called before we get here, causing self._jobs to\u001b[0m\u001b[0;34m\u001b[0m\u001b[0;34m\u001b[0m\u001b[0;34m\u001b[0m\u001b[0m\n",
      "\u001b[0;32m/opt/anaconda3/lib/python3.8/site-packages/joblib/_parallel_backends.py\u001b[0m in \u001b[0;36mapply_async\u001b[0;34m(self, func, callback)\u001b[0m\n\u001b[1;32m    206\u001b[0m     \u001b[0;32mdef\u001b[0m \u001b[0mapply_async\u001b[0m\u001b[0;34m(\u001b[0m\u001b[0mself\u001b[0m\u001b[0;34m,\u001b[0m \u001b[0mfunc\u001b[0m\u001b[0;34m,\u001b[0m \u001b[0mcallback\u001b[0m\u001b[0;34m=\u001b[0m\u001b[0;32mNone\u001b[0m\u001b[0;34m)\u001b[0m\u001b[0;34m:\u001b[0m\u001b[0;34m\u001b[0m\u001b[0;34m\u001b[0m\u001b[0m\n\u001b[1;32m    207\u001b[0m         \u001b[0;34m\"\"\"Schedule a func to be run\"\"\"\u001b[0m\u001b[0;34m\u001b[0m\u001b[0;34m\u001b[0m\u001b[0m\n\u001b[0;32m--> 208\u001b[0;31m         \u001b[0mresult\u001b[0m \u001b[0;34m=\u001b[0m \u001b[0mImmediateResult\u001b[0m\u001b[0;34m(\u001b[0m\u001b[0mfunc\u001b[0m\u001b[0;34m)\u001b[0m\u001b[0;34m\u001b[0m\u001b[0;34m\u001b[0m\u001b[0m\n\u001b[0m\u001b[1;32m    209\u001b[0m         \u001b[0;32mif\u001b[0m \u001b[0mcallback\u001b[0m\u001b[0;34m:\u001b[0m\u001b[0;34m\u001b[0m\u001b[0;34m\u001b[0m\u001b[0m\n\u001b[1;32m    210\u001b[0m             \u001b[0mcallback\u001b[0m\u001b[0;34m(\u001b[0m\u001b[0mresult\u001b[0m\u001b[0;34m)\u001b[0m\u001b[0;34m\u001b[0m\u001b[0;34m\u001b[0m\u001b[0m\n",
      "\u001b[0;32m/opt/anaconda3/lib/python3.8/site-packages/joblib/_parallel_backends.py\u001b[0m in \u001b[0;36m__init__\u001b[0;34m(self, batch)\u001b[0m\n\u001b[1;32m    570\u001b[0m         \u001b[0;31m# Don't delay the application, to avoid keeping the input\u001b[0m\u001b[0;34m\u001b[0m\u001b[0;34m\u001b[0m\u001b[0;34m\u001b[0m\u001b[0m\n\u001b[1;32m    571\u001b[0m         \u001b[0;31m# arguments in memory\u001b[0m\u001b[0;34m\u001b[0m\u001b[0;34m\u001b[0m\u001b[0;34m\u001b[0m\u001b[0m\n\u001b[0;32m--> 572\u001b[0;31m         \u001b[0mself\u001b[0m\u001b[0;34m.\u001b[0m\u001b[0mresults\u001b[0m \u001b[0;34m=\u001b[0m \u001b[0mbatch\u001b[0m\u001b[0;34m(\u001b[0m\u001b[0;34m)\u001b[0m\u001b[0;34m\u001b[0m\u001b[0;34m\u001b[0m\u001b[0m\n\u001b[0m\u001b[1;32m    573\u001b[0m \u001b[0;34m\u001b[0m\u001b[0m\n\u001b[1;32m    574\u001b[0m     \u001b[0;32mdef\u001b[0m \u001b[0mget\u001b[0m\u001b[0;34m(\u001b[0m\u001b[0mself\u001b[0m\u001b[0;34m)\u001b[0m\u001b[0;34m:\u001b[0m\u001b[0;34m\u001b[0m\u001b[0;34m\u001b[0m\u001b[0m\n",
      "\u001b[0;32m/opt/anaconda3/lib/python3.8/site-packages/joblib/parallel.py\u001b[0m in \u001b[0;36m__call__\u001b[0;34m(self)\u001b[0m\n\u001b[1;32m    260\u001b[0m         \u001b[0;31m# change the default number of processes to -1\u001b[0m\u001b[0;34m\u001b[0m\u001b[0;34m\u001b[0m\u001b[0;34m\u001b[0m\u001b[0m\n\u001b[1;32m    261\u001b[0m         \u001b[0;32mwith\u001b[0m \u001b[0mparallel_backend\u001b[0m\u001b[0;34m(\u001b[0m\u001b[0mself\u001b[0m\u001b[0;34m.\u001b[0m\u001b[0m_backend\u001b[0m\u001b[0;34m,\u001b[0m \u001b[0mn_jobs\u001b[0m\u001b[0;34m=\u001b[0m\u001b[0mself\u001b[0m\u001b[0;34m.\u001b[0m\u001b[0m_n_jobs\u001b[0m\u001b[0;34m)\u001b[0m\u001b[0;34m:\u001b[0m\u001b[0;34m\u001b[0m\u001b[0;34m\u001b[0m\u001b[0m\n\u001b[0;32m--> 262\u001b[0;31m             return [func(*args, **kwargs)\n\u001b[0m\u001b[1;32m    263\u001b[0m                     for func, args, kwargs in self.items]\n\u001b[1;32m    264\u001b[0m \u001b[0;34m\u001b[0m\u001b[0m\n",
      "\u001b[0;32m/opt/anaconda3/lib/python3.8/site-packages/joblib/parallel.py\u001b[0m in \u001b[0;36m<listcomp>\u001b[0;34m(.0)\u001b[0m\n\u001b[1;32m    260\u001b[0m         \u001b[0;31m# change the default number of processes to -1\u001b[0m\u001b[0;34m\u001b[0m\u001b[0;34m\u001b[0m\u001b[0;34m\u001b[0m\u001b[0m\n\u001b[1;32m    261\u001b[0m         \u001b[0;32mwith\u001b[0m \u001b[0mparallel_backend\u001b[0m\u001b[0;34m(\u001b[0m\u001b[0mself\u001b[0m\u001b[0;34m.\u001b[0m\u001b[0m_backend\u001b[0m\u001b[0;34m,\u001b[0m \u001b[0mn_jobs\u001b[0m\u001b[0;34m=\u001b[0m\u001b[0mself\u001b[0m\u001b[0;34m.\u001b[0m\u001b[0m_n_jobs\u001b[0m\u001b[0;34m)\u001b[0m\u001b[0;34m:\u001b[0m\u001b[0;34m\u001b[0m\u001b[0;34m\u001b[0m\u001b[0m\n\u001b[0;32m--> 262\u001b[0;31m             return [func(*args, **kwargs)\n\u001b[0m\u001b[1;32m    263\u001b[0m                     for func, args, kwargs in self.items]\n\u001b[1;32m    264\u001b[0m \u001b[0;34m\u001b[0m\u001b[0m\n",
      "\u001b[0;32m/opt/anaconda3/lib/python3.8/site-packages/sklearn/utils/fixes.py\u001b[0m in \u001b[0;36m__call__\u001b[0;34m(self, *args, **kwargs)\u001b[0m\n\u001b[1;32m    209\u001b[0m     \u001b[0;32mdef\u001b[0m \u001b[0m__call__\u001b[0m\u001b[0;34m(\u001b[0m\u001b[0mself\u001b[0m\u001b[0;34m,\u001b[0m \u001b[0;34m*\u001b[0m\u001b[0margs\u001b[0m\u001b[0;34m,\u001b[0m \u001b[0;34m**\u001b[0m\u001b[0mkwargs\u001b[0m\u001b[0;34m)\u001b[0m\u001b[0;34m:\u001b[0m\u001b[0;34m\u001b[0m\u001b[0;34m\u001b[0m\u001b[0m\n\u001b[1;32m    210\u001b[0m         \u001b[0;32mwith\u001b[0m \u001b[0mconfig_context\u001b[0m\u001b[0;34m(\u001b[0m\u001b[0;34m**\u001b[0m\u001b[0mself\u001b[0m\u001b[0;34m.\u001b[0m\u001b[0mconfig\u001b[0m\u001b[0;34m)\u001b[0m\u001b[0;34m:\u001b[0m\u001b[0;34m\u001b[0m\u001b[0;34m\u001b[0m\u001b[0m\n\u001b[0;32m--> 211\u001b[0;31m             \u001b[0;32mreturn\u001b[0m \u001b[0mself\u001b[0m\u001b[0;34m.\u001b[0m\u001b[0mfunction\u001b[0m\u001b[0;34m(\u001b[0m\u001b[0;34m*\u001b[0m\u001b[0margs\u001b[0m\u001b[0;34m,\u001b[0m \u001b[0;34m**\u001b[0m\u001b[0mkwargs\u001b[0m\u001b[0;34m)\u001b[0m\u001b[0;34m\u001b[0m\u001b[0;34m\u001b[0m\u001b[0m\n\u001b[0m\u001b[1;32m    212\u001b[0m \u001b[0;34m\u001b[0m\u001b[0m\n\u001b[1;32m    213\u001b[0m \u001b[0;34m\u001b[0m\u001b[0m\n",
      "\u001b[0;32m/opt/anaconda3/lib/python3.8/site-packages/sklearn/ensemble/_forest.py\u001b[0m in \u001b[0;36m_parallel_build_trees\u001b[0;34m(tree, forest, X, y, sample_weight, tree_idx, n_trees, verbose, class_weight, n_samples_bootstrap)\u001b[0m\n\u001b[1;32m    183\u001b[0m             \u001b[0mcurr_sample_weight\u001b[0m \u001b[0;34m*=\u001b[0m \u001b[0mcompute_sample_weight\u001b[0m\u001b[0;34m(\u001b[0m\u001b[0;34m\"balanced\"\u001b[0m\u001b[0;34m,\u001b[0m \u001b[0my\u001b[0m\u001b[0;34m,\u001b[0m \u001b[0mindices\u001b[0m\u001b[0;34m=\u001b[0m\u001b[0mindices\u001b[0m\u001b[0;34m)\u001b[0m\u001b[0;34m\u001b[0m\u001b[0;34m\u001b[0m\u001b[0m\n\u001b[1;32m    184\u001b[0m \u001b[0;34m\u001b[0m\u001b[0m\n\u001b[0;32m--> 185\u001b[0;31m         \u001b[0mtree\u001b[0m\u001b[0;34m.\u001b[0m\u001b[0mfit\u001b[0m\u001b[0;34m(\u001b[0m\u001b[0mX\u001b[0m\u001b[0;34m,\u001b[0m \u001b[0my\u001b[0m\u001b[0;34m,\u001b[0m \u001b[0msample_weight\u001b[0m\u001b[0;34m=\u001b[0m\u001b[0mcurr_sample_weight\u001b[0m\u001b[0;34m,\u001b[0m \u001b[0mcheck_input\u001b[0m\u001b[0;34m=\u001b[0m\u001b[0;32mFalse\u001b[0m\u001b[0;34m)\u001b[0m\u001b[0;34m\u001b[0m\u001b[0;34m\u001b[0m\u001b[0m\n\u001b[0m\u001b[1;32m    186\u001b[0m     \u001b[0;32melse\u001b[0m\u001b[0;34m:\u001b[0m\u001b[0;34m\u001b[0m\u001b[0;34m\u001b[0m\u001b[0m\n\u001b[1;32m    187\u001b[0m         \u001b[0mtree\u001b[0m\u001b[0;34m.\u001b[0m\u001b[0mfit\u001b[0m\u001b[0;34m(\u001b[0m\u001b[0mX\u001b[0m\u001b[0;34m,\u001b[0m \u001b[0my\u001b[0m\u001b[0;34m,\u001b[0m \u001b[0msample_weight\u001b[0m\u001b[0;34m=\u001b[0m\u001b[0msample_weight\u001b[0m\u001b[0;34m,\u001b[0m \u001b[0mcheck_input\u001b[0m\u001b[0;34m=\u001b[0m\u001b[0;32mFalse\u001b[0m\u001b[0;34m)\u001b[0m\u001b[0;34m\u001b[0m\u001b[0;34m\u001b[0m\u001b[0m\n",
      "\u001b[0;32m/opt/anaconda3/lib/python3.8/site-packages/sklearn/tree/_classes.py\u001b[0m in \u001b[0;36mfit\u001b[0;34m(self, X, y, sample_weight, check_input, X_idx_sorted)\u001b[0m\n\u001b[1;32m    935\u001b[0m         \"\"\"\n\u001b[1;32m    936\u001b[0m \u001b[0;34m\u001b[0m\u001b[0m\n\u001b[0;32m--> 937\u001b[0;31m         super().fit(\n\u001b[0m\u001b[1;32m    938\u001b[0m             \u001b[0mX\u001b[0m\u001b[0;34m,\u001b[0m\u001b[0;34m\u001b[0m\u001b[0;34m\u001b[0m\u001b[0m\n\u001b[1;32m    939\u001b[0m             \u001b[0my\u001b[0m\u001b[0;34m,\u001b[0m\u001b[0;34m\u001b[0m\u001b[0;34m\u001b[0m\u001b[0m\n",
      "\u001b[0;32m/opt/anaconda3/lib/python3.8/site-packages/sklearn/tree/_classes.py\u001b[0m in \u001b[0;36mfit\u001b[0;34m(self, X, y, sample_weight, check_input, X_idx_sorted)\u001b[0m\n\u001b[1;32m    418\u001b[0m             )\n\u001b[1;32m    419\u001b[0m \u001b[0;34m\u001b[0m\u001b[0m\n\u001b[0;32m--> 420\u001b[0;31m         \u001b[0mbuilder\u001b[0m\u001b[0;34m.\u001b[0m\u001b[0mbuild\u001b[0m\u001b[0;34m(\u001b[0m\u001b[0mself\u001b[0m\u001b[0;34m.\u001b[0m\u001b[0mtree_\u001b[0m\u001b[0;34m,\u001b[0m \u001b[0mX\u001b[0m\u001b[0;34m,\u001b[0m \u001b[0my\u001b[0m\u001b[0;34m,\u001b[0m \u001b[0msample_weight\u001b[0m\u001b[0;34m)\u001b[0m\u001b[0;34m\u001b[0m\u001b[0;34m\u001b[0m\u001b[0m\n\u001b[0m\u001b[1;32m    421\u001b[0m \u001b[0;34m\u001b[0m\u001b[0m\n\u001b[1;32m    422\u001b[0m         \u001b[0;32mif\u001b[0m \u001b[0mself\u001b[0m\u001b[0;34m.\u001b[0m\u001b[0mn_outputs_\u001b[0m \u001b[0;34m==\u001b[0m \u001b[0;36m1\u001b[0m \u001b[0;32mand\u001b[0m \u001b[0mis_classifier\u001b[0m\u001b[0;34m(\u001b[0m\u001b[0mself\u001b[0m\u001b[0;34m)\u001b[0m\u001b[0;34m:\u001b[0m\u001b[0;34m\u001b[0m\u001b[0;34m\u001b[0m\u001b[0m\n",
      "\u001b[0;31mKeyboardInterrupt\u001b[0m: "
     ]
    }
   ],
   "metadata": {}
  },
  {
   "cell_type": "code",
   "execution_count": 17,
   "source": [
    "classifier = xgb.XGBClassifier(random_state=42, use_label_encoder = False, objective='multi:softmax', eval_metric = 'mlogloss', colsample_bynode = 0.3, gamma = 0.1, learning_rate = 0.04, max_depth = 4, n_estimators = 550, reg_alpha=1, reg_lambda = 1, subsample = 0.5)\n",
    "classifier.fit(x_train_features, y_train, sample_weight = weights_per_sample)\n",
    "y_train_pred = classifier.predict(x_train_features)\n",
    "y_val_pred = classifier.predict(x_val_features)\n",
    "y_test_pred = classifier.predict(x_test_features)\n",
    "print('Val_score_xgboost_2',f1_score(y_val, y_val_pred, average='micro'))\n",
    "print('Train_score_xgboost_2',f1_score(y_train, y_train_pred, average='micro'))\n",
    "\n",
    "header = ['id','y']\n",
    "index_array = np.arange(y_test_pred.shape[0])\n",
    "submission = np.vstack((index_array,y_test_pred))\n",
    "print(submission)\n",
    "print(submission.shape)\n",
    "df = pd.DataFrame(submission.T)\n",
    "df.to_csv('submission.csv', index=False, header=header)"
   ],
   "outputs": [
    {
     "output_type": "stream",
     "name": "stdout",
     "text": [
      "Val_score_xgboost_2 0.7421875\n",
      "Train_score_xgboost_2 0.8548345061245765\n",
      "[[   0    1    2 ... 3408 3409 3410]\n",
      " [   0    2    3 ...    0    0    2]]\n",
      "(2, 3411)\n"
     ]
    }
   ],
   "metadata": {}
  },
  {
   "cell_type": "code",
   "execution_count": null,
   "source": [],
   "outputs": [],
   "metadata": {}
  }
 ],
 "metadata": {
  "interpreter": {
   "hash": "139b51f406ed92f10db2623c37a88a625e5c0cd5fff13f9404946b2d5048cb2a"
  },
  "kernelspec": {
   "name": "python3",
   "display_name": "Python 3.8.12 64-bit ('aml': conda)"
  },
  "language_info": {
   "codemirror_mode": {
    "name": "ipython",
    "version": 3
   },
   "file_extension": ".py",
   "mimetype": "text/x-python",
   "name": "python",
   "nbconvert_exporter": "python",
   "pygments_lexer": "ipython3",
   "version": "3.8.12"
  }
 },
 "nbformat": 4,
 "nbformat_minor": 2
}